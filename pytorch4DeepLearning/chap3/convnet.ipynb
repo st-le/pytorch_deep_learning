{
 "cells": [
  {
   "cell_type": "code",
   "execution_count": 168,
   "metadata": {},
   "outputs": [],
   "source": [
    "import torch \n",
    "import torch.nn as nn  \n",
    "import torch.optim as optim \n",
    "import torch.utils.data \n",
    "import torch.nn.functional as F \n",
    "import torchvision \n",
    "from torchvision import transforms \n",
    "from PIL import Image \n"
   ]
  },
  {
   "cell_type": "code",
   "execution_count": 169,
   "metadata": {},
   "outputs": [],
   "source": [
    "class CNNNet(nn.Module):\n",
    "    def __init__(self, num_classes=2):\n",
    "        super(CNNNet, self).__init__() \n",
    "        self.features = nn.Sequential(\n",
    "            nn.Conv2d(3, 64, kernel_size=3),\n",
    "            nn.ReLU(),\n",
    "            nn.MaxPool2d(kernel_size=3),\n",
    "            nn.Conv2d(64, 192, kernel_size=3),\n",
    "            nn.ReLU(),\n",
    "            nn.MaxPool2d(kernel_size=3),\n",
    "            nn.Conv2d(192, 384, kernel_size=3),\n",
    "            nn.ReLU(),\n",
    "            nn.Conv2d(384,256, kernel_size=3),\n",
    "            nn.ReLU(),\n",
    "            # nn.Conv2d(256,256, kernel_size=3),\n",
    "            # nn.ReLU(),\n",
    "            # nn.MaxPool2d(kernel_size=3),\n",
    "        )\n",
    "        self.avgpool = nn.AdaptiveAvgPool2d((6,6))\n",
    "        self.classifier = nn.Sequential(\n",
    "            nn.Dropout(),\n",
    "            nn.Linear(9216, 4096), # nn.Linear(256*6*6, 4096)\n",
    "            nn.ReLU(),\n",
    "            nn.Dropout(),\n",
    "            nn.Linear(4096,4096),\n",
    "            nn.ReLU(),\n",
    "            nn.Linear(4096, num_classes)\n",
    "        )\n",
    "\n",
    "    def forward(self,x):\n",
    "        x = self.features(x)\n",
    "        x = self.avgpool(x)\n",
    "        x = torch.flatten(x, 1)\n",
    "        x = self.classifier(x)\n",
    "        return x\n",
    "\n",
    "cnnnet = CNNNet()"
   ]
  },
  {
   "cell_type": "code",
   "execution_count": 170,
   "metadata": {},
   "outputs": [],
   "source": [
    "def train(model, optimizer, loss_fn, train_loader, val_loader, epochs=20, device=\"cpu\"):\n",
    "    for epoch in range(epochs):\n",
    "        training_loss = 0.0\n",
    "        valid_loss = 0.0 \n",
    "        model.train()\n",
    "        for batch in train_loader:\n",
    "            optimizer.zero_grad()\n",
    "            inputs, targets = batch \n",
    "            # print('inputs = ', inputs)\n",
    "            # print('input shape = ', inputs.size())\n",
    "            # print('targets = ', targets)\n",
    "            inputs = inputs.to(device)\n",
    "            targets = targets.to(device)\n",
    "            output = model(inputs)\n",
    "            loss = loss_fn(output, targets)\n",
    "            loss.backward()\n",
    "            optimizer.step()\n",
    "            training_loss += loss.data.item() * inputs.size(0)\n",
    "        training_loss /= len(train_loader.dataset)\n",
    "\n",
    "        model.eval()\n",
    "        num_correct = 0 \n",
    "        num_examples = 0\n",
    "        for batch in val_loader:\n",
    "            inputs, targets = batch\n",
    "            inputs = inputs.to(device)\n",
    "            output = model(inputs)\n",
    "            targets = targets.to(device)\n",
    "            loss = loss_fn(output,targets) \n",
    "            valid_loss += loss.data.item() * inputs.size(0)\n",
    "            correct = torch.eq(torch.max(F.softmax(output), dim=1)[1], targets).view(-1)\n",
    "            num_correct += torch.sum(correct).item()\n",
    "            num_examples += correct.shape[0]\n",
    "        valid_loss /= len(val_loader.dataset)\n",
    "        print('Epoch: {}, Training Loss: {:.2f}, Validation Loss: {:.2f}, accuracy = {:.2f}'.format(epoch, training_loss, valid_loss, num_correct / num_examples))\n",
    "\n"
   ]
  },
  {
   "cell_type": "code",
   "execution_count": 171,
   "metadata": {},
   "outputs": [],
   "source": [
    "def check_image(path):\n",
    "    try:\n",
    "        im = Image.open(path)\n",
    "        return True\n",
    "    except:\n",
    "        return False \n",
    "img_transforms = transforms.Compose([\n",
    "    transforms.Resize((64,64)),\n",
    "    transforms.ToTensor(),\n",
    "    transforms.Normalize(mean=[0.485, 0.456, 0.406],\n",
    "                    std=[0.229, 0.224, 0.225])\n",
    "                    ])\n",
    "\n",
    "train_data_path = \"./train/\"\n",
    "train_data = torchvision.datasets.ImageFolder(root=train_data_path,transform=img_transforms, is_valid_file=check_image)\n",
    "val_data_path = \"./val/\"\n",
    "val_data = torchvision.datasets.ImageFolder(root=val_data_path,transform=img_transforms, is_valid_file=check_image)\n",
    "batch_size = 64\n",
    "train_data_loader = torch.utils.data.DataLoader(train_data, batch_size=batch_size, shuffle=True)\n",
    "val_data_loader = torch.utils.data.DataLoader(val_data, batch_size=batch_size, shuffle=True)\n",
    "if torch.cuda.is_available():\n",
    "    device = torch.device(\"cuda\") \n",
    "else:\n",
    "    device = torch.device(\"cpu\")"
   ]
  },
  {
   "cell_type": "code",
   "execution_count": 172,
   "metadata": {},
   "outputs": [
    {
     "output_type": "stream",
     "name": "stdout",
     "text": "Epoch: 0, Training Loss: 1.01, Validation Loss: 0.70, accuracy = 0.42\nEpoch: 1, Training Loss: 0.66, Validation Loss: 0.68, accuracy = 0.50\nEpoch: 2, Training Loss: 0.58, Validation Loss: 0.58, accuracy = 0.63\nEpoch: 3, Training Loss: 0.50, Validation Loss: 0.38, accuracy = 0.83\nEpoch: 4, Training Loss: 0.48, Validation Loss: 0.38, accuracy = 0.83\nEpoch: 5, Training Loss: 0.46, Validation Loss: 0.45, accuracy = 0.76\nEpoch: 6, Training Loss: 0.41, Validation Loss: 0.45, accuracy = 0.73\nEpoch: 7, Training Loss: 0.37, Validation Loss: 0.37, accuracy = 0.80\nEpoch: 8, Training Loss: 0.35, Validation Loss: 0.26, accuracy = 0.88\nEpoch: 9, Training Loss: 0.32, Validation Loss: 0.38, accuracy = 0.83\nEpoch: 10, Training Loss: 0.26, Validation Loss: 0.48, accuracy = 0.79\nEpoch: 11, Training Loss: 0.19, Validation Loss: 0.52, accuracy = 0.77\nEpoch: 12, Training Loss: 0.19, Validation Loss: 0.43, accuracy = 0.80\nEpoch: 13, Training Loss: 0.13, Validation Loss: 0.69, accuracy = 0.76\nEpoch: 14, Training Loss: 0.25, Validation Loss: 0.42, accuracy = 0.81\nEpoch: 15, Training Loss: 0.17, Validation Loss: 0.44, accuracy = 0.81\nEpoch: 16, Training Loss: 0.10, Validation Loss: 0.59, accuracy = 0.81\nEpoch: 17, Training Loss: 0.07, Validation Loss: 0.62, accuracy = 0.81\nEpoch: 18, Training Loss: 0.08, Validation Loss: 0.63, accuracy = 0.81\nEpoch: 19, Training Loss: 0.09, Validation Loss: 0.75, accuracy = 0.82\n"
    }
   ],
   "source": [
    "cnnnet.to(device)\n",
    "optimizer = optim.Adam(cnnnet.parameters(), lr=0.001)\n",
    "train(cnnnet, optimizer, torch.nn.CrossEntropyLoss(), train_data_loader,val_data_loader, epochs=20, device=device)\n"
   ]
  },
  {
   "cell_type": "code",
   "execution_count": null,
   "metadata": {},
   "outputs": [],
   "source": []
  }
 ],
 "metadata": {
  "language_info": {
   "codemirror_mode": {
    "name": "ipython",
    "version": 3
   },
   "file_extension": ".py",
   "mimetype": "text/x-python",
   "name": "python",
   "nbconvert_exporter": "python",
   "pygments_lexer": "ipython3",
   "version": "3.6.5-final"
  },
  "orig_nbformat": 2,
  "kernelspec": {
   "name": "python36564bit32025d7f69c14f1b81d5a2b675ae5254",
   "display_name": "Python 3.6.5 64-bit"
  }
 },
 "nbformat": 4,
 "nbformat_minor": 2
}