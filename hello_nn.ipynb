{
  "nbformat": 4,
  "nbformat_minor": 0,
  "metadata": {
    "colab": {
      "name": "hello_nn.ipynb",
      "provenance": [],
      "collapsed_sections": [],
      "authorship_tag": "ABX9TyPmbS2v8h1o8+Np25l8052c",
      "include_colab_link": true
    },
    "kernelspec": {
      "name": "python3",
      "display_name": "Python 3"
    },
    "accelerator": "GPU"
  },
  "cells": [
    {
      "cell_type": "markdown",
      "metadata": {
        "id": "view-in-github",
        "colab_type": "text"
      },
      "source": [
        "<a href=\"https://colab.research.google.com/github/st-le/pytorch_deep_learning/blob/master/hello_nn.ipynb\" target=\"_parent\"><img src=\"https://colab.research.google.com/assets/colab-badge.svg\" alt=\"Open In Colab\"/></a>"
      ]
    },
    {
      "cell_type": "markdown",
      "metadata": {
        "id": "M4JJWjrgsunv",
        "colab_type": "text"
      },
      "source": [
        "**TODO**: document the vanishing gradient and the fix. Hint: revert this"
      ]
    },
    {
      "cell_type": "markdown",
      "metadata": {
        "id": "ZsWMb4n0qJkE",
        "colab_type": "text"
      },
      "source": [
        "some imports\n"
      ]
    },
    {
      "cell_type": "code",
      "metadata": {
        "id": "5pD1UQSYU5zx",
        "colab_type": "code",
        "colab": {}
      },
      "source": [
        "import torch.optim as optim \n",
        "import numpy as np\n",
        "import matplotlib.pyplot as plt\n",
        "from torchvision import transforms\n",
        "import cv2"
      ],
      "execution_count": 0,
      "outputs": []
    },
    {
      "cell_type": "markdown",
      "metadata": {
        "id": "66DXlyo7RZlP",
        "colab_type": "text"
      },
      "source": [
        "someone mnist model"
      ]
    },
    {
      "cell_type": "code",
      "metadata": {
        "id": "qMpK7heLRbjU",
        "colab_type": "code",
        "colab": {}
      },
      "source": [
        "import torch\n",
        "import torch.nn as nn\n",
        "import torch.nn.functional as F\n",
        "import torch.optim as optim\n",
        "\n",
        "class Net(nn.Module):\n",
        "    def __init__(self):\n",
        "        super(Net, self).__init__()\n",
        "        self.conv1 = nn.Conv2d(1, 32, 3, 1)\n",
        "        self.conv2 = nn.Conv2d(32, 64, 3, 1)\n",
        "        self.dropout1 = nn.Dropout2d(0.25)\n",
        "        self.dropout2 = nn.Dropout2d(0.5)\n",
        "        self.fc1 = nn.Linear(9216, 128)\n",
        "        self.fc2 = nn.Linear(128, 10)\n",
        "\n",
        "    def forward(self, x):\n",
        "        x = self.conv1(x)\n",
        "        x = F.relu(x)\n",
        "        x = self.conv2(x)\n",
        "        x = F.max_pool2d(x, 2)\n",
        "        x = self.dropout1(x)\n",
        "        x = torch.flatten(x, 1)\n",
        "        x = self.fc1(x)\n",
        "        x = F.relu(x)\n",
        "        x = self.dropout2(x)\n",
        "        x = self.fc2(x)\n",
        "        output = F.log_softmax(x, dim=1)\n",
        "        return output\n",
        "\n",
        "class dumbNet(nn.Module):\n",
        "  def __init__(self):\n",
        "    super(dumbNet, self).__init__()\n",
        "    # self.ln1 = nn.Linear(784,128)\n",
        "    # self.ln2 = nn.Linear(128,10)\n",
        "    self.ln1 = nn.Linear(2352, 784)\n",
        "    self.ln2 = nn.Linear(784,10)\n",
        "\n",
        "  def forward(self,x):\n",
        "    x = self.ln1(x)\n",
        "    \n",
        "    x = F.relu(x)    \n",
        "    \n",
        "    x = self.ln2(x)\n",
        "    \n",
        "    x = F.relu(x)\n",
        "    x = F.softmax(x)\n",
        "    return x\n",
        "\n",
        "  def relu2_out(self, x):\n",
        "    x = self.ln1(x)\n",
        "    x = F.relu(x)\n",
        "    x = self.ln2(x)\n",
        "    x = F.relu(x)\n",
        "    return x"
      ],
      "execution_count": 0,
      "outputs": []
    },
    {
      "cell_type": "code",
      "metadata": {
        "id": "tL5TkgVKdDEu",
        "colab_type": "code",
        "colab": {}
      },
      "source": [
        ""
      ],
      "execution_count": 0,
      "outputs": []
    },
    {
      "cell_type": "markdown",
      "metadata": {
        "id": "vlQKR0icUzsV",
        "colab_type": "text"
      },
      "source": [
        "get some data"
      ]
    },
    {
      "cell_type": "code",
      "metadata": {
        "id": "lqjtNMnDapMN",
        "colab_type": "code",
        "outputId": "884b3c31-1ca2-4c8b-9778-09e36d1ac5f0",
        "colab": {
          "base_uri": "https://localhost:8080/",
          "height": 382
        }
      },
      "source": [
        "from __future__ import print_function\n",
        "import torch\n",
        "import torch.nn as nn\n",
        "\n",
        "from torchvision import datasets\n",
        "# import datasets.MNIST as MNIST\n",
        "\n",
        "\n",
        "from PIL import Image\n",
        "\n",
        "# x = torch.rand(10)\n",
        "# print(x)\n",
        "mnist = datasets.MNIST('../sdata', download=True)\n",
        "# mnist = datasets.MNIST('../sdata')\n",
        "item = mnist.__getitem__(0) \n",
        "img = np.array(item[0])\n",
        "y = item[1]\n",
        "print(img.shape)\n",
        "print(img.flatten().squeeze().shape)\n",
        "print(type(img))\n",
        "print('gt is: ', y)\n",
        "print('gt type is: ', type(y))\n",
        "\n",
        "inp = img.flatten().squeeze()\n",
        "plt.imshow(img)\n",
        "plt.show()\n",
        "\n",
        "print(img.shape)\n",
        "print(img.dtype)"
      ],
      "execution_count": 0,
      "outputs": [
        {
          "output_type": "stream",
          "text": [
            "(28, 28)\n",
            "(784,)\n",
            "<class 'numpy.ndarray'>\n",
            "gt is:  5\n",
            "gt type is:  <class 'int'>\n"
          ],
          "name": "stdout"
        },
        {
          "output_type": "display_data",
          "data": {
            "image/png": "[encoded data removed]",
            "text/plain": [
              "<Figure size 432x288 with 1 Axes>"
            ]
          },
          "metadata": {
            "tags": []
          }
        },
        {
          "output_type": "stream",
          "text": [
            "(28, 28)\n",
            "uint8\n"
          ],
          "name": "stdout"
        }
      ]
    },
    {
      "cell_type": "markdown",
      "metadata": {
        "id": "oB0GgFlT-Dy5",
        "colab_type": "text"
      },
      "source": [
        "create the data processing"
      ]
    },
    {
      "cell_type": "code",
      "metadata": {
        "id": "Dz7z7NuaLAb2",
        "colab_type": "code",
        "colab": {}
      },
      "source": [
        "# print(item[0].size)\n",
        "# rgbimg = Image.new(\"RGBA\", item[0].size)\n",
        "# print(rgbimg.size)\n",
        "# rgbimg.paste(img)\n"
      ],
      "execution_count": 0,
      "outputs": []
    },
    {
      "cell_type": "code",
      "metadata": {
        "id": "2KhnOkfM-G1w",
        "colab_type": "code",
        "outputId": "301a2e2c-37b7-4738-8399-9dabc1493b4a",
        "colab": {
          "base_uri": "https://localhost:8080/",
          "height": 84
        }
      },
      "source": [
        "# rgbimg = Image.new(\"RGB\", item[0].size)\n",
        "# rgbimg.paste(img)\n",
        "rgbimg = item[0]\n",
        "rgbimg = np.array(rgbimg)\n",
        "print(rgbimg.shape)\n",
        "rgbimg = cv2.cvtColor(rgbimg, cv2.COLOR_GRAY2RGB)\n",
        "rgbimg = Image.fromarray(np.uint8(rgbimg))\n",
        "\n",
        "img_proc = transforms.Compose([\n",
        "                                #  transforms.Resize(64),\n",
        "                                 transforms.ToTensor(),\n",
        "                                # transforms.Normalize(mean=[0.485,0.456], \n",
        "                                #                     std=[0.229,0.224])\n",
        "                                 transforms.Normalize(mean=[0.485,0.456,0.406], \n",
        "                                                      std=[0.229,0.224,0.225])\n",
        "])\n",
        "\n",
        "print(item[0].size)\n",
        "# im = img_proc(item[0])\n",
        "im = img_proc(rgbimg)\n",
        "print(np.array(im).shape)\n",
        "print(np.array(rgbimg).shape)\n"
      ],
      "execution_count": 0,
      "outputs": [
        {
          "output_type": "stream",
          "text": [
            "(28, 28)\n",
            "(28, 28)\n",
            "(3, 28, 28)\n",
            "(28, 28, 3)\n"
          ],
          "name": "stdout"
        }
      ]
    },
    {
      "cell_type": "markdown",
      "metadata": {
        "id": "-Is1sMffqFWw",
        "colab_type": "text"
      },
      "source": [
        "create the model\n"
      ]
    },
    {
      "cell_type": "code",
      "metadata": {
        "id": "Qpyvb4aXqG9v",
        "colab_type": "code",
        "colab": {}
      },
      "source": [
        "\n",
        "# use a dumb net\n",
        "# model = nn.Sequential(\n",
        "#           nn.Linear(784,128),\n",
        "#           nn.ReLU(),\n",
        "#           nn.Linear(128,10),\n",
        "#           nn.ReLU(),\n",
        "#           nn.Softmax()\n",
        "#         )\n",
        "model = dumbNet()\n",
        "\n",
        "\n",
        "# use someone mnist net \n",
        "# model = Net()\n",
        "\n",
        "optimizer = optim.SGD(model.parameters(), lr=0.001)\n",
        "loss_fun = nn.CrossEntropyLoss()\n"
      ],
      "execution_count": 0,
      "outputs": []
    },
    {
      "cell_type": "markdown",
      "metadata": {
        "id": "8HYNJ3c1qN1i",
        "colab_type": "text"
      },
      "source": [
        "inspect the model i.e. the init weights by histograms"
      ]
    },
    {
      "cell_type": "code",
      "metadata": {
        "id": "TgVfdwPjqPgf",
        "colab_type": "code",
        "outputId": "7cdd0bc1-cf7c-4faa-ba6e-a7f334063c04",
        "colab": {
          "base_uri": "https://localhost:8080/",
          "height": 1000
        }
      },
      "source": [
        "# for name, param in model.named_parameters():\n",
        "#   print(name, ' --> ', param) \n",
        "for param in model.parameters():\n",
        "  print(param)\n",
        "  w = param.cpu().detach().numpy()\n",
        "  counts, bins = np.histogram(w)\n",
        "  _ = plt.hist(bins[:-1], bins, weights=counts)\n",
        "  plt.show()"
      ],
      "execution_count": 0,
      "outputs": [
        {
          "output_type": "stream",
          "text": [
            "Parameter containing:\n",
            "tensor([[-0.0180, -0.0136, -0.0082,  ..., -0.0118, -0.0044, -0.0201],\n",
            "        [-0.0099,  0.0135, -0.0060,  ...,  0.0019, -0.0119, -0.0031],\n",
            "        [ 0.0064, -0.0028, -0.0023,  ...,  0.0205,  0.0153, -0.0069],\n",
            "        ...,\n",
            "        [-0.0003,  0.0114,  0.0184,  ...,  0.0051, -0.0080,  0.0008],\n",
            "        [ 0.0129,  0.0145,  0.0069,  ..., -0.0106,  0.0107, -0.0170],\n",
            "        [ 0.0183, -0.0048,  0.0107,  ...,  0.0146, -0.0130,  0.0128]],\n",
            "       requires_grad=True)\n"
          ],
          "name": "stdout"
        },
        {
          "output_type": "display_data",
          "data": {
            "image/png": "[encoded data removed]",
            "text/plain": [
              "<Figure size 432x288 with 1 Axes>"
            ]
          },
          "metadata": {
            "tags": []
          }
        },
        {
          "output_type": "stream",
          "text": [
            "Parameter containing:\n",
            "tensor([ 2.0751e-03, -1.0260e-02, -2.4462e-03,  1.4897e-02,  1.1610e-03,\n",
            "        -1.9877e-02, -2.4024e-03,  1.3850e-02, -8.1426e-03, -1.7162e-02,\n",
            "         5.0592e-03, -2.7900e-03,  2.0046e-02, -5.2495e-03,  1.4343e-02,\n",
            "        -3.4288e-03, -5.9601e-03, -1.4369e-02,  6.1180e-03, -3.3500e-03,\n",
            "         3.2864e-03, -6.9102e-03,  1.6094e-02,  1.5796e-02,  1.0258e-02,\n",
            "         1.0017e-02,  1.9645e-02,  1.1464e-02,  1.2657e-02,  2.9976e-03,\n",
            "         8.1695e-03, -9.3310e-03, -2.0783e-03,  1.7907e-02, -7.3194e-03,\n",
            "         9.9859e-03,  3.5920e-03,  6.8183e-03, -8.8253e-04, -1.1219e-02,\n",
            "        -6.2019e-03,  5.3503e-05,  2.9512e-03, -1.1561e-02,  3.0256e-03,\n",
            "        -1.4690e-03,  1.1038e-02, -3.8980e-03,  1.5915e-02,  7.5588e-03,\n",
            "         3.3270e-03,  1.1530e-02, -1.3782e-03, -1.3245e-02,  3.6009e-03,\n",
            "         7.4783e-03, -1.1221e-02,  1.6309e-02, -8.5181e-03, -3.4075e-03,\n",
            "         1.1418e-02,  2.9318e-03, -7.9587e-03,  2.6657e-03,  1.2405e-02,\n",
            "         1.5460e-03, -4.8088e-03,  1.1706e-02, -1.6227e-02,  4.6374e-03,\n",
            "         1.9022e-02, -1.6653e-02,  1.1417e-02, -1.9476e-02,  1.2369e-02,\n",
            "        -5.3411e-03,  5.5390e-03,  1.7493e-03,  4.1812e-03,  1.8950e-02,\n",
            "        -1.8993e-02, -3.3868e-03, -2.9290e-03, -1.4122e-02,  1.7141e-02,\n",
            "         1.8318e-02,  1.6839e-02, -5.0483e-03, -1.1347e-02,  8.4125e-03,\n",
            "        -3.5523e-03,  4.6346e-03,  1.0946e-02,  4.8704e-03, -1.7351e-02,\n",
            "         6.1514e-04, -1.2155e-02,  1.8731e-02,  6.3497e-03, -5.5535e-03,\n",
            "         4.9231e-03, -1.8746e-02,  1.7163e-02, -4.5102e-03,  1.4809e-02,\n",
            "         1.2456e-02, -3.9398e-03,  2.0212e-02, -2.7500e-03,  6.3841e-03,\n",
            "         3.7113e-04,  1.6048e-03,  1.9075e-02,  1.6326e-02, -1.4923e-02,\n",
            "         7.1462e-03, -1.1539e-02, -9.0128e-03, -7.4882e-03,  1.9594e-03,\n",
            "         1.3932e-02, -1.4866e-02, -5.7405e-03, -2.9409e-03,  3.9455e-03,\n",
            "        -8.0122e-03, -7.9898e-03, -1.5263e-02, -3.0158e-04, -1.3583e-02,\n",
            "         1.9657e-02, -5.5321e-03, -1.5428e-02, -7.3856e-03, -8.9034e-03,\n",
            "        -1.3171e-02,  1.7480e-02, -1.5132e-02, -1.3704e-02, -2.6883e-03,\n",
            "         2.0056e-02,  2.2597e-03,  1.3587e-02,  3.8989e-03,  1.0804e-02,\n",
            "        -1.4507e-02,  1.5339e-02, -6.1165e-03,  6.2642e-03, -1.4757e-02,\n",
            "         1.4087e-02,  2.0211e-02,  1.2683e-02,  6.9223e-03,  9.6675e-03,\n",
            "        -2.8494e-03,  2.0229e-02, -1.4486e-02, -8.3244e-03, -7.5439e-03,\n",
            "         2.0149e-02, -1.4615e-02, -1.9129e-03,  1.8859e-02,  1.7651e-02,\n",
            "        -2.6093e-03, -9.1623e-03, -1.5641e-02, -9.2739e-03,  2.0289e-02,\n",
            "        -2.0153e-02,  4.5782e-03, -1.7027e-02,  1.7145e-02,  5.8992e-03,\n",
            "        -4.8165e-03, -1.1109e-04,  1.3038e-02, -1.0192e-04, -1.3149e-02,\n",
            "        -6.8278e-03, -1.3367e-02,  6.6941e-03, -1.0908e-02,  1.8047e-02,\n",
            "         7.5964e-03, -3.6776e-03, -2.7671e-03, -9.7631e-03, -1.4600e-03,\n",
            "         2.6075e-03, -1.6631e-02,  9.9239e-03, -1.2354e-03,  1.2241e-02,\n",
            "         6.1068e-03, -1.7406e-02, -6.0312e-03, -1.6176e-03, -1.6026e-02,\n",
            "        -7.3708e-03, -1.0861e-02,  1.7489e-03, -3.6355e-03,  1.2004e-02,\n",
            "        -3.9017e-03,  1.3160e-02,  8.8723e-03,  1.6688e-02, -1.3636e-02,\n",
            "         1.8435e-02,  1.7250e-02,  1.2558e-02, -1.0289e-02, -6.0825e-04,\n",
            "        -6.3589e-03,  6.4678e-03, -1.2511e-02, -1.4525e-02,  1.7925e-02,\n",
            "        -6.1407e-03, -1.1488e-02, -1.8192e-02,  3.3509e-04,  4.7868e-04,\n",
            "        -5.4687e-03,  2.0900e-03,  6.3894e-03,  1.8716e-02, -1.0146e-02,\n",
            "        -9.0699e-03, -1.3886e-02,  1.5922e-02,  9.3427e-03,  1.8169e-02,\n",
            "         1.2007e-02, -9.0119e-03,  1.2644e-02,  8.5234e-03,  1.1971e-02,\n",
            "         1.3644e-03, -2.8156e-03, -7.8878e-03,  1.1925e-02,  1.4174e-02,\n",
            "        -1.8966e-04,  2.0244e-02,  9.6118e-03,  1.4401e-02, -1.9872e-02,\n",
            "         2.0299e-02,  1.8194e-03, -1.3745e-02, -1.3986e-02, -2.0137e-02,\n",
            "         1.4913e-02,  5.3410e-03, -1.9659e-02,  7.4690e-03,  1.3449e-02,\n",
            "        -5.7824e-03, -5.4226e-03, -8.4602e-03,  6.6865e-03,  1.3577e-02,\n",
            "         6.0213e-03,  2.4464e-03,  9.6222e-03,  1.1764e-03,  1.0322e-02,\n",
            "         1.6814e-02,  9.1421e-03, -1.1141e-02,  1.9674e-02, -1.3015e-02,\n",
            "         7.7574e-03,  1.0605e-02,  1.8522e-02,  3.3520e-03, -1.1824e-02,\n",
            "         1.3068e-02,  1.5267e-02, -1.2198e-02,  1.5777e-02,  4.2440e-03,\n",
            "         6.7871e-03,  7.4520e-03, -2.0486e-02, -1.4279e-02, -7.4734e-03,\n",
            "        -4.5054e-03, -1.6834e-02,  2.0451e-02,  1.2281e-02, -6.2845e-03,\n",
            "         1.6794e-02, -2.0075e-02, -1.5130e-03, -2.0578e-02, -1.9279e-02,\n",
            "         3.9714e-04, -3.6197e-03, -4.0270e-04, -5.4284e-03,  1.3950e-02,\n",
            "         2.4415e-03,  9.1955e-03, -1.3444e-02,  9.9995e-03, -4.6773e-03,\n",
            "        -1.1828e-02,  1.2559e-03, -6.7502e-03,  1.6822e-02,  3.9746e-03,\n",
            "         2.1024e-03,  6.3728e-04, -3.1950e-03, -2.0194e-02, -8.2375e-03,\n",
            "         1.3453e-03, -8.3235e-03, -9.1760e-03,  1.6482e-02,  1.7311e-02,\n",
            "        -1.0514e-02,  1.8611e-02, -1.7269e-02,  1.6752e-02,  1.8607e-02,\n",
            "         1.2582e-02, -1.9600e-02,  6.6865e-03, -1.9630e-02, -4.3743e-03,\n",
            "        -8.2020e-03,  1.9121e-02,  1.4400e-02, -3.5898e-03,  1.4965e-02,\n",
            "         9.9913e-04, -1.5343e-03, -1.4702e-02, -6.6397e-03,  1.3166e-02,\n",
            "         1.1012e-02, -4.8170e-03,  8.7335e-03, -2.3488e-03,  2.2344e-04,\n",
            "         1.5469e-03, -6.3688e-03, -5.7782e-03,  1.1263e-02, -1.0074e-02,\n",
            "        -5.0938e-03, -1.4486e-03, -1.6694e-03,  1.0383e-02,  1.1404e-02,\n",
            "         1.3409e-02, -9.5358e-04,  2.5896e-03, -5.8055e-03,  1.5563e-02,\n",
            "         1.9785e-02,  3.3328e-05, -2.0520e-02, -1.1913e-02, -1.6600e-02,\n",
            "         1.8502e-02,  9.9699e-04,  5.9048e-03, -1.7374e-02, -5.7447e-03,\n",
            "         1.8725e-02,  6.3120e-03, -1.2431e-02, -1.4421e-02,  1.8148e-02,\n",
            "        -1.1314e-02,  3.5740e-03, -8.2281e-03, -1.8673e-02,  1.2827e-02,\n",
            "         1.2657e-02,  1.0471e-02, -6.0835e-03,  1.0321e-02,  1.7152e-02,\n",
            "        -1.1011e-03, -5.4692e-03, -3.4437e-03,  9.1417e-03,  1.7862e-02,\n",
            "         5.0978e-03, -2.9236e-03, -3.8641e-03, -2.9430e-03, -1.0507e-02,\n",
            "         1.5002e-02,  1.5172e-03,  2.0433e-02,  2.6011e-03,  1.3729e-02,\n",
            "        -1.9220e-02,  1.6846e-03, -1.3278e-02, -3.5313e-03,  1.8967e-02,\n",
            "         1.9222e-02,  7.0780e-03, -1.8786e-02, -8.6469e-03,  9.8376e-04,\n",
            "         1.7748e-02, -3.8553e-03, -2.2575e-03,  1.9379e-02,  1.5523e-02,\n",
            "         1.5040e-02,  1.8503e-02, -1.6031e-02,  1.9292e-02,  1.3201e-02,\n",
            "         6.0053e-03, -6.2995e-03, -1.5346e-03, -3.1475e-03,  7.1064e-03,\n",
            "         9.1469e-03, -9.9815e-03, -2.2109e-03, -1.1220e-02,  1.2116e-02,\n",
            "        -1.3003e-02,  1.0321e-02, -5.7963e-03, -6.8318e-03, -8.3855e-04,\n",
            "        -6.9778e-03, -3.0743e-03,  1.8477e-02, -7.4367e-03,  1.0909e-03,\n",
            "        -3.3721e-03, -1.9749e-02,  5.8366e-03,  1.3694e-02,  1.4976e-02,\n",
            "        -1.8805e-02, -1.4893e-02, -4.9733e-03, -1.8174e-02, -1.4537e-02,\n",
            "        -8.5056e-03,  1.4646e-02,  9.7305e-03,  4.7001e-03,  1.7586e-03,\n",
            "         2.0161e-02,  5.8580e-05, -1.8009e-02, -1.8309e-02,  1.3597e-02,\n",
            "         1.3415e-02, -1.5589e-02, -1.5240e-02, -6.8131e-03, -1.6757e-02,\n",
            "        -6.5908e-03,  1.4429e-02,  1.1872e-02, -1.3738e-02,  4.7344e-03,\n",
            "         2.6103e-03,  1.0267e-02, -6.3739e-03, -1.0990e-02, -3.4386e-03,\n",
            "         1.7483e-02, -1.0408e-02,  1.3802e-02,  1.1980e-02,  6.0751e-03,\n",
            "        -7.2201e-03, -7.7740e-03,  7.7771e-03,  2.5856e-03,  2.0014e-02,\n",
            "         1.9533e-02,  5.9202e-03, -1.6377e-03, -2.0469e-02,  7.2913e-03,\n",
            "        -2.3983e-03,  1.4638e-02, -8.2281e-03,  2.0614e-03,  9.7876e-03,\n",
            "         1.6736e-02, -1.9281e-02, -1.4005e-02, -1.5078e-02,  1.1430e-02,\n",
            "         9.0594e-03, -1.9288e-02,  5.8398e-03,  1.8201e-02, -1.4949e-02,\n",
            "         8.9975e-03,  4.5771e-03,  1.3039e-02,  3.1342e-03, -1.2049e-02,\n",
            "        -1.5055e-02,  3.0832e-03, -1.8085e-02, -1.7885e-02, -1.5996e-02,\n",
            "        -5.9669e-03, -2.7208e-03, -1.1460e-02, -1.9642e-02, -1.0261e-02,\n",
            "        -9.7807e-03,  1.4880e-02, -2.0126e-03,  1.3076e-02, -1.4480e-02,\n",
            "        -1.1795e-02, -1.6214e-04, -1.9579e-03,  1.9904e-02, -1.0592e-02,\n",
            "         1.2233e-02, -9.0278e-03,  1.1395e-02, -1.0700e-02,  1.2049e-02,\n",
            "         1.6918e-02,  1.7114e-02, -1.7152e-02,  1.2858e-03, -1.7006e-02,\n",
            "        -9.3984e-03,  1.3408e-02, -8.0467e-03, -7.3295e-03,  1.6249e-02,\n",
            "         6.7925e-04,  1.6028e-02,  5.7590e-03, -1.7096e-02,  1.5648e-02,\n",
            "        -1.4769e-03, -1.0817e-02,  8.8098e-03,  1.3854e-02, -1.7591e-02,\n",
            "         1.0009e-03, -1.3382e-02, -1.3872e-02,  1.4512e-02, -1.2582e-02,\n",
            "         1.6304e-03,  9.3445e-03, -2.0487e-02,  2.0202e-02,  1.7153e-02,\n",
            "         8.4152e-03, -1.7960e-02,  1.5992e-02,  2.6744e-03,  1.8879e-02,\n",
            "         7.9492e-03,  1.6871e-02,  4.6568e-03,  2.0015e-02,  1.3267e-02,\n",
            "         1.8109e-02, -3.3880e-03, -1.7594e-02,  1.2145e-02, -4.4424e-03,\n",
            "        -9.6651e-03, -5.5401e-04,  1.5731e-02,  1.8985e-02, -8.6681e-03,\n",
            "        -1.3229e-02, -4.1626e-03,  4.6463e-03, -7.1920e-03, -2.6809e-03,\n",
            "        -7.2176e-03, -1.8533e-02,  1.4639e-03, -6.7561e-03, -1.5565e-02,\n",
            "         1.7770e-02, -3.3915e-03, -6.1618e-03,  1.6742e-02, -1.9204e-02,\n",
            "        -1.3999e-02,  9.3559e-03, -7.3996e-03,  1.7206e-02,  1.0770e-02,\n",
            "         1.9156e-02,  1.0740e-02, -3.3155e-03,  1.4297e-02, -1.5741e-02,\n",
            "        -1.4868e-02, -1.3206e-02,  1.4516e-02, -6.1414e-03, -1.9216e-04,\n",
            "        -8.4957e-03,  2.0057e-02, -1.0448e-03, -6.4772e-03,  1.9785e-03,\n",
            "        -1.4807e-02,  1.7332e-02, -1.1390e-02, -2.0334e-02,  8.7573e-03,\n",
            "         1.4636e-02,  1.6659e-02, -1.6849e-02, -5.5311e-03, -1.9779e-02,\n",
            "         1.7079e-02, -1.4478e-03, -6.3223e-03,  1.0351e-02,  1.3995e-02,\n",
            "         1.8307e-02, -1.9435e-02,  2.0058e-02,  2.9554e-03,  9.5933e-03,\n",
            "        -1.9453e-02,  1.1220e-03, -6.5904e-03,  4.0687e-03,  4.5187e-03,\n",
            "         8.9280e-03,  8.4886e-03, -1.3316e-02, -8.9354e-03, -6.7481e-03,\n",
            "         6.6041e-03, -1.3330e-02, -1.0194e-02, -5.6007e-03,  1.3831e-02,\n",
            "         3.3424e-03, -6.6107e-03, -1.3152e-02,  9.9639e-03,  1.5872e-02,\n",
            "         1.7553e-02, -1.2635e-02,  9.5973e-03, -1.5482e-02,  6.7665e-03,\n",
            "        -1.0351e-02, -1.9066e-02, -1.0251e-02, -1.2968e-02, -1.3668e-02,\n",
            "         1.9726e-02, -1.6427e-02, -1.7061e-03, -1.4715e-02,  1.5101e-02,\n",
            "        -9.9998e-03, -1.3623e-02, -1.9152e-02, -9.6488e-03,  1.9783e-02,\n",
            "         9.7394e-03, -5.6537e-03,  8.7632e-03, -1.4329e-02, -2.9630e-03,\n",
            "         1.2247e-02, -4.1193e-03, -3.3850e-03,  1.4100e-02,  1.3045e-02,\n",
            "         1.6199e-02, -2.5524e-03,  3.7877e-03,  8.3344e-03,  1.7300e-02,\n",
            "         6.3197e-03, -1.6920e-02,  7.5746e-03,  1.3708e-02,  1.1264e-03,\n",
            "         4.6519e-04, -1.7299e-02,  5.1614e-03,  1.6399e-02,  1.6320e-02,\n",
            "         1.2392e-02, -1.7410e-02, -1.4242e-02,  2.9430e-03, -3.9944e-03,\n",
            "         8.7255e-03,  1.2228e-02, -1.9189e-02,  1.3059e-02, -1.2159e-02,\n",
            "         1.8400e-03,  6.8197e-04,  1.7474e-04, -1.9347e-02,  1.5306e-02,\n",
            "         1.1039e-02,  9.0615e-03, -2.9081e-03,  1.7469e-02,  1.8934e-03,\n",
            "        -7.4128e-04, -1.8926e-02,  2.5072e-03,  2.7986e-03, -7.4860e-03,\n",
            "        -1.1929e-02, -1.6845e-02, -1.2579e-02,  1.3776e-02,  1.0756e-02,\n",
            "        -7.5477e-03,  2.4530e-03, -7.8634e-03, -1.0326e-02,  9.1070e-03,\n",
            "         1.4820e-02, -1.4244e-02,  1.2169e-02,  1.0763e-02, -4.4277e-03,\n",
            "        -1.1209e-02,  1.1815e-03, -1.8419e-02, -1.3627e-02,  1.8194e-02,\n",
            "         1.6123e-02, -1.5955e-02, -9.6404e-03,  6.7791e-03,  1.1826e-02,\n",
            "        -5.3356e-04, -1.6418e-02,  3.8989e-03, -1.5661e-02, -1.0492e-02,\n",
            "         6.1818e-03,  5.8360e-03, -2.0633e-03, -8.5169e-04, -1.8404e-02,\n",
            "        -8.0277e-03, -5.5637e-03,  1.9831e-02, -1.2492e-02, -2.0394e-02,\n",
            "         8.4140e-03,  1.3324e-02,  1.3450e-02,  1.4897e-02, -6.7396e-03,\n",
            "         1.6535e-02, -1.0909e-02, -9.1192e-03,  9.1650e-03],\n",
            "       requires_grad=True)\n"
          ],
          "name": "stdout"
        },
        {
          "output_type": "display_data",
          "data": {
            "image/png": "[encoded data removed]",
            "text/plain": [
              "<Figure size 432x288 with 1 Axes>"
            ]
          },
          "metadata": {
            "tags": []
          }
        },
        {
          "output_type": "stream",
          "text": [
            "Parameter containing:\n",
            "tensor([[ 0.0270,  0.0160, -0.0305,  ...,  0.0336, -0.0325,  0.0175],\n",
            "        [ 0.0174,  0.0022, -0.0239,  ...,  0.0170, -0.0233,  0.0146],\n",
            "        [-0.0200,  0.0256,  0.0230,  ..., -0.0259,  0.0145, -0.0006],\n",
            "        ...,\n",
            "        [-0.0102, -0.0328,  0.0008,  ...,  0.0125,  0.0345, -0.0134],\n",
            "        [ 0.0188,  0.0106,  0.0338,  ..., -0.0261,  0.0223,  0.0244],\n",
            "        [-0.0149, -0.0088,  0.0335,  ...,  0.0079, -0.0005, -0.0236]],\n",
            "       requires_grad=True)\n"
          ],
          "name": "stdout"
        },
        {
          "output_type": "display_data",
          "data": {
            "image/png": "[encoded data removed]",
            "text/plain": [
              "<Figure size 432x288 with 1 Axes>"
            ]
          },
          "metadata": {
            "tags": []
          }
        },
        {
          "output_type": "stream",
          "text": [
            "Parameter containing:\n",
            "tensor([ 0.0147,  0.0077, -0.0128, -0.0279,  0.0123,  0.0173,  0.0075, -0.0052,\n",
            "         0.0171, -0.0058], requires_grad=True)\n"
          ],
          "name": "stdout"
        },
        {
          "output_type": "display_data",
          "data": {
            "image/png": "[encoded data removed]",
            "text/plain": [
              "<Figure size 432x288 with 1 Axes>"
            ]
          },
          "metadata": {
            "tags": []
          }
        }
      ]
    },
    {
      "cell_type": "markdown",
      "metadata": {
        "id": "VguzmMRFqWnI",
        "colab_type": "text"
      },
      "source": [
        "run one forward pass\n",
        "\n",
        "**BUG**\n",
        "\n",
        "the bug can be **FOUND** here. High chance it requires normalization of input **values**"
      ]
    },
    {
      "cell_type": "code",
      "metadata": {
        "id": "PRyKzHB1qYfn",
        "colab_type": "code",
        "outputId": "971128e1-0777-4d67-cd0a-74d80e09f799",
        "colab": {
          "base_uri": "https://localhost:8080/",
          "height": 1000
        }
      },
      "source": [
        "if torch.cuda.is_available():\n",
        "  print(\"cuda is available\")\n",
        "  device = torch.device(\"cuda\")\n",
        "else:\n",
        "  print(\"cuda is NOT available\")\n",
        "  device = torch.device(\"cpu\")\n",
        "\n",
        "# device = torch.device(\"cuda\" if use_cuda else \"cpu\")\n",
        "print(device)\n",
        "model.to(device)\n",
        "\n",
        "for i, batch in enumerate(mnist): \n",
        "  pimg, target = batch\n",
        "  # print(target)\n",
        "  # plt.imshow(img)\n",
        "  # plt.show()\n",
        "  # img = np.array(pimg)\n",
        "  pimg = np.array(pimg)\n",
        "  rgbimg = cv2.cvtColor(pimg, cv2.COLOR_GRAY2RGB)\n",
        "  rgbimg = Image.fromarray(np.uint8(rgbimg))\n",
        "\n",
        "  # gpu_img = torch.tensor(img.flatten().astype('float32'))\n",
        "  # gpu_img = gpu_img.to(device)\n",
        "  # gpu_img = transforms(rgbimg)\n",
        "  gpu_img = img_proc(rgbimg)\n",
        "  gpu_img = gpu_img.to(device)\n",
        "  gpu_img = torch.reshape(gpu_img, (1,2352))\n",
        "  target = torch.tensor(np.array([target]).astype('int64'))\n",
        "  target = target.to(device) \n",
        "\n",
        "  output = model(gpu_img)\n",
        "  output = output.view(1, 10)\n",
        "  rl2_o = model.relu2_out(gpu_img)\n",
        "  \n",
        "  loss = loss_fun(output, target)\n",
        "  print('target = ', target)\n",
        "  # print('rl2 out = ', rl2_o)\n",
        "  # print('out=',output)\n",
        "  print('loss=', loss)\n",
        "  print()\n",
        "  if i == 20 : break\n",
        "\n",
        "# data = torch.tensor(img.flatten().astype('float32'))\n",
        "# output = model(data)\n",
        "# output = output.view(1, 10)\n",
        "\n",
        "# print(output)\n",
        "# print(output.shape)\n",
        "# # print(target)\n",
        "\n",
        "# celoss = nn.CrossEntropyLoss()\n",
        "# target = torch.tensor(np.array([y]).astype('int64'))\n",
        "\n",
        "# loss = celoss(output, target)\n",
        "# print(loss)\n",
        "# print(loss.detach().numpy())"
      ],
      "execution_count": 0,
      "outputs": [
        {
          "output_type": "stream",
          "text": [
            "cuda is available\n",
            "cuda\n",
            "target =  tensor([5], device='cuda:0')\n",
            "loss= tensor(2.3190, device='cuda:0', grad_fn=<NllLossBackward>)\n",
            "\n",
            "target =  tensor([0], device='cuda:0')\n",
            "loss= tensor(2.2930, device='cuda:0', grad_fn=<NllLossBackward>)\n",
            "\n",
            "target =  tensor([4], device='cuda:0')\n",
            "loss= tensor(2.3126, device='cuda:0', grad_fn=<NllLossBackward>)\n",
            "\n",
            "target =  tensor([1], device='cuda:0')\n",
            "loss= tensor(2.2590, device='cuda:0', grad_fn=<NllLossBackward>)\n",
            "\n",
            "target =  tensor([9], device='cuda:0')\n",
            "loss= tensor(2.3174, device='cuda:0', grad_fn=<NllLossBackward>)\n",
            "\n",
            "target =  tensor([2], device='cuda:0')\n",
            "loss= tensor(2.2831, device='cuda:0', grad_fn=<NllLossBackward>)\n",
            "\n",
            "target =  tensor([1], device='cuda:0')\n",
            "loss= tensor(2.2765, device='cuda:0', grad_fn=<NllLossBackward>)\n",
            "\n",
            "target =  tensor([3], device='cuda:0')\n",
            "loss= tensor(2.3197, device='cuda:0', grad_fn=<NllLossBackward>)\n",
            "\n",
            "target =  tensor([1], device='cuda:0')\n",
            "loss= tensor(2.2697, device='cuda:0', grad_fn=<NllLossBackward>)\n",
            "\n",
            "target =  tensor([4], device='cuda:0')\n",
            "loss= tensor(2.3218, device='cuda:0', grad_fn=<NllLossBackward>)\n",
            "\n",
            "target =  tensor([3], device='cuda:0')\n",
            "loss= tensor(2.3168, device='cuda:0', grad_fn=<NllLossBackward>)\n",
            "\n",
            "target =  tensor([5], device='cuda:0')\n",
            "loss= tensor(2.3130, device='cuda:0', grad_fn=<NllLossBackward>)\n",
            "\n",
            "target =  tensor([3], device='cuda:0')\n",
            "loss= tensor(2.3094, device='cuda:0', grad_fn=<NllLossBackward>)\n",
            "\n",
            "target =  tensor([6], device='cuda:0')\n",
            "loss= tensor(2.2789, device='cuda:0', grad_fn=<NllLossBackward>)\n",
            "\n",
            "target =  tensor([1], device='cuda:0')\n",
            "loss= tensor(2.2767, device='cuda:0', grad_fn=<NllLossBackward>)\n",
            "\n",
            "target =  tensor([7], device='cuda:0')\n",
            "loss= tensor(2.3136, device='cuda:0', grad_fn=<NllLossBackward>)\n",
            "\n",
            "target =  tensor([2], device='cuda:0')\n",
            "loss= tensor(2.3021, device='cuda:0', grad_fn=<NllLossBackward>)\n",
            "\n",
            "target =  tensor([8], device='cuda:0')\n",
            "loss= tensor(2.2831, device='cuda:0', grad_fn=<NllLossBackward>)\n",
            "\n",
            "target =  tensor([6], device='cuda:0')\n",
            "loss= tensor(2.3143, device='cuda:0', grad_fn=<NllLossBackward>)\n",
            "\n",
            "target =  tensor([9], device='cuda:0')\n",
            "loss= tensor(2.3159, device='cuda:0', grad_fn=<NllLossBackward>)\n",
            "\n",
            "target =  tensor([4], device='cuda:0')\n",
            "loss= tensor(2.3105, device='cuda:0', grad_fn=<NllLossBackward>)\n",
            "\n"
          ],
          "name": "stdout"
        },
        {
          "output_type": "stream",
          "text": [
            "/usr/local/lib/python3.6/dist-packages/ipykernel_launcher.py:46: UserWarning: Implicit dimension choice for softmax has been deprecated. Change the call to include dim=X as an argument.\n"
          ],
          "name": "stderr"
        }
      ]
    },
    {
      "cell_type": "code",
      "metadata": {
        "id": "ltE6__QtTOkl",
        "colab_type": "code",
        "outputId": "831de983-3567-47d8-c7cb-2c65992d6c99",
        "colab": {
          "base_uri": "https://localhost:8080/",
          "height": 302
        }
      },
      "source": [
        "\n",
        "n_epoch = 50\n",
        "n_step = 100\n",
        "loss_arr = []\n",
        "grad_arr = []\n",
        "model.train()\n",
        "for epoch in range(n_epoch) :\n",
        "  for i, batch in enumerate(mnist): \n",
        "    optimizer.zero_grad()\n",
        "\n",
        "    pimg, target = batch\n",
        "    # print(target)\n",
        "    # plt.imshow(img)\n",
        "    # plt.show()\n",
        "    # img = np.array(pimg)\n",
        "    pimg = np.array(pimg)\n",
        "    rgbimg = cv2.cvtColor(pimg, cv2.COLOR_GRAY2RGB)\n",
        "    rgbimg = Image.fromarray(np.uint8(rgbimg))\n",
        "\n",
        "    # gpu_img = torch.tensor(img.flatten().astype('float32'))\n",
        "    # gpu_img = gpu_img.to(device)\n",
        "    # gpu_img = transforms(rgbimg)\n",
        "    gpu_img = img_proc(rgbimg)\n",
        "    gpu_img = gpu_img.to(device)\n",
        "    gpu_img = torch.reshape(gpu_img, (1,2352))\n",
        "    target = torch.tensor(np.array([target]).astype('int64'))\n",
        "    target = target.to(device) \n",
        "\n",
        "    output = model(gpu_img)\n",
        "    output = output.view(1, 10)\n",
        "    rl2_o = model.relu2_out(gpu_img)\n",
        "    \n",
        "    loss = loss_fun(output, target)\n",
        "\n",
        "    # img, target = batch\n",
        "    # # print(target)\n",
        "    # # plt.imshow(img)\n",
        "    # # plt.show()\n",
        "    # img = np.array(img)\n",
        "    # gpu_img = torch.tensor(img.flatten().astype('float32'))\n",
        "    # gpu_img = gpu_img.to(device)\n",
        "    # target = torch.tensor(np.array([target]).astype('int64'))\n",
        "    # target = target.to(device)\n",
        "\n",
        "    # output = model(gpu_img)\n",
        "    # output = output.view(1, 10)\n",
        "    # # print(output)\n",
        "   \n",
        "    # loss = loss_fun(output, target)\n",
        "\n",
        "    # loss_arr.append(loss.detach().numpy()) # 1.\n",
        "    loss_arr.append(loss.data.item()) # 2.\n",
        "\n",
        "    loss.backward()\n",
        "    optimizer.step()\n",
        "\n",
        "    # check grad\n",
        "    for param in model.parameters():\n",
        "      g = param.grad.cpu().detach().numpy()\n",
        "      grad_arr.append(np.linalg.norm(g))\n",
        "      break\n",
        "\n",
        "    #  check weights\n",
        "    # for param in model.parameters():\n",
        "    #   w = param.cpu().detach().numpy()\n",
        "    #   counts, bins = np.histogram(w)\n",
        "    #   plt.hist(bins[:-1], bins, weights=counts)\n",
        "    #   plt.show()\n",
        "    #   break\n",
        "\n",
        "    #   print(param.requires_grad)\n",
        "    if i == n_step: break\n",
        "plt.plot(grad_arr)\n",
        "plt.show()"
      ],
      "execution_count": 0,
      "outputs": [
        {
          "output_type": "stream",
          "text": [
            "/usr/local/lib/python3.6/dist-packages/ipykernel_launcher.py:46: UserWarning: Implicit dimension choice for softmax has been deprecated. Change the call to include dim=X as an argument.\n"
          ],
          "name": "stderr"
        },
        {
          "output_type": "display_data",
          "data": {
            "image/png": "[encoded data removed]",
            "text/plain": [
              "<Figure size 432x288 with 1 Axes>"
            ]
          },
          "metadata": {
            "tags": []
          }
        }
      ]
    },
    {
      "cell_type": "markdown",
      "metadata": {
        "id": "M-4HF9W6bfkg",
        "colab_type": "text"
      },
      "source": [
        "draw graphs"
      ]
    },
    {
      "cell_type": "code",
      "metadata": {
        "id": "kp59tWKHbhEl",
        "colab_type": "code",
        "outputId": "23982f5d-99f7-4266-8fc4-e0bc7c864bcb",
        "colab": {
          "base_uri": "https://localhost:8080/",
          "height": 282
        }
      },
      "source": [
        "plt.plot(loss_arr)"
      ],
      "execution_count": 0,
      "outputs": [
        {
          "output_type": "execute_result",
          "data": {
            "text/plain": [
              "[<matplotlib.lines.Line2D at 0x7f74502749e8>]"
            ]
          },
          "metadata": {
            "tags": []
          },
          "execution_count": 59
        },
        {
          "output_type": "display_data",
          "data": {
            "image/png": "[encoded data removed]",
            "text/plain": [
              "<Figure size 432x288 with 1 Axes>"
            ]
          },
          "metadata": {
            "tags": []
          }
        }
      ]
    },
    {
      "cell_type": "markdown",
      "metadata": {
        "id": "PEV1zG7l3vrA",
        "colab_type": "text"
      },
      "source": [
        "inspect backward "
      ]
    },
    {
      "cell_type": "code",
      "metadata": {
        "id": "PsJmtx883uQr",
        "colab_type": "code",
        "colab": {}
      },
      "source": [
        "loss.backward()\n",
        "\n",
        "for name, param in model.named_parameters():\n",
        "  print(name, ' --> ', param) \n",
        "  print(param.grad)"
      ],
      "execution_count": 0,
      "outputs": []
    },
    {
      "cell_type": "markdown",
      "metadata": {
        "id": "mAUVvULdTNCy",
        "colab_type": "text"
      },
      "source": [
        "one update step\n"
      ]
    },
    {
      "cell_type": "code",
      "metadata": {
        "id": "7aZ6RvWXRq7q",
        "colab_type": "code",
        "colab": {}
      },
      "source": [
        "# \n",
        "input = torch.randn(3, 5, requires_grad=True)\n",
        "print(input)\n",
        "print(input.shape)\n",
        "target = torch.randint(5, (3,), dtype=torch.int64)\n",
        "print(target)\n",
        "loss = nn.functional.cross_entropy(input, target)\n",
        "print(loss)"
      ],
      "execution_count": 0,
      "outputs": []
    }
  ]
}