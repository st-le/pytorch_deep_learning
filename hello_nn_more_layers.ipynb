{
  "nbformat": 4,
  "nbformat_minor": 0,
  "metadata": {
    "colab": {
      "name": "hello_nn_more_layers.ipynb",
      "provenance": [],
      "collapsed_sections": [],
      "authorship_tag": "ABX9TyNa7jileiBty3DS6NeqdeIw",
      "include_colab_link": true
    },
    "kernelspec": {
      "name": "python3",
      "display_name": "Python 3"
    },
    "accelerator": "GPU",
    "widgets": {
      "application/vnd.jupyter.widget-state+json": {
        "fe8bd827828445c99cfb02d158eb47a3": {
          "model_module": "@jupyter-widgets/controls",
          "model_name": "HBoxModel",
          "state": {
            "_view_name": "HBoxView",
            "_dom_classes": [],
            "_model_name": "HBoxModel",
            "_view_module": "@jupyter-widgets/controls",
            "_model_module_version": "1.5.0",
            "_view_count": null,
            "_view_module_version": "1.5.0",
            "box_style": "",
            "layout": "IPY_MODEL_7863fbd27ef341bbb9732e9492a30467",
            "_model_module": "@jupyter-widgets/controls",
            "children": [
              "IPY_MODEL_b2e1591298cf4fd687b3f8cb5c6b4aa7",
              "IPY_MODEL_096b7e3dc8354a75bc57f7d0a6ab70c7"
            ]
          }
        },
        "7863fbd27ef341bbb9732e9492a30467": {
          "model_module": "@jupyter-widgets/base",
          "model_name": "LayoutModel",
          "state": {
            "_view_name": "LayoutView",
            "grid_template_rows": null,
            "right": null,
            "justify_content": null,
            "_view_module": "@jupyter-widgets/base",
            "overflow": null,
            "_model_module_version": "1.2.0",
            "_view_count": null,
            "flex_flow": null,
            "width": null,
            "min_width": null,
            "border": null,
            "align_items": null,
            "bottom": null,
            "_model_module": "@jupyter-widgets/base",
            "top": null,
            "grid_column": null,
            "overflow_y": null,
            "overflow_x": null,
            "grid_auto_flow": null,
            "grid_area": null,
            "grid_template_columns": null,
            "flex": null,
            "_model_name": "LayoutModel",
            "justify_items": null,
            "grid_row": null,
            "max_height": null,
            "align_content": null,
            "visibility": null,
            "align_self": null,
            "height": null,
            "min_height": null,
            "padding": null,
            "grid_auto_rows": null,
            "grid_gap": null,
            "max_width": null,
            "order": null,
            "_view_module_version": "1.2.0",
            "grid_template_areas": null,
            "object_position": null,
            "object_fit": null,
            "grid_auto_columns": null,
            "margin": null,
            "display": null,
            "left": null
          }
        },
        "b2e1591298cf4fd687b3f8cb5c6b4aa7": {
          "model_module": "@jupyter-widgets/controls",
          "model_name": "IntProgressModel",
          "state": {
            "_view_name": "ProgressView",
            "style": "IPY_MODEL_0da9da5df28f4c20901255414981e5a0",
            "_dom_classes": [],
            "description": "",
            "_model_name": "IntProgressModel",
            "bar_style": "info",
            "max": 1,
            "_view_module": "@jupyter-widgets/controls",
            "_model_module_version": "1.5.0",
            "value": 1,
            "_view_count": null,
            "_view_module_version": "1.5.0",
            "orientation": "horizontal",
            "min": 0,
            "description_tooltip": null,
            "_model_module": "@jupyter-widgets/controls",
            "layout": "IPY_MODEL_514f06862c3d40a99902e9d90f50197a"
          }
        },
        "096b7e3dc8354a75bc57f7d0a6ab70c7": {
          "model_module": "@jupyter-widgets/controls",
          "model_name": "HTMLModel",
          "state": {
            "_view_name": "HTMLView",
            "style": "IPY_MODEL_1bb0b6c6573e4206957236c81f29dde4",
            "_dom_classes": [],
            "description": "",
            "_model_name": "HTMLModel",
            "placeholder": "​",
            "_view_module": "@jupyter-widgets/controls",
            "_model_module_version": "1.5.0",
            "value": "0it [00:00, ?it/s]",
            "_view_count": null,
            "_view_module_version": "1.5.0",
            "description_tooltip": null,
            "_model_module": "@jupyter-widgets/controls",
            "layout": "IPY_MODEL_5d81e505bbef49c9b6af0625731df1eb"
          }
        },
        "0da9da5df28f4c20901255414981e5a0": {
          "model_module": "@jupyter-widgets/controls",
          "model_name": "ProgressStyleModel",
          "state": {
            "_view_name": "StyleView",
            "_model_name": "ProgressStyleModel",
            "description_width": "",
            "_view_module": "@jupyter-widgets/base",
            "_model_module_version": "1.5.0",
            "_view_count": null,
            "_view_module_version": "1.2.0",
            "bar_color": null,
            "_model_module": "@jupyter-widgets/controls"
          }
        },
        "514f06862c3d40a99902e9d90f50197a": {
          "model_module": "@jupyter-widgets/base",
          "model_name": "LayoutModel",
          "state": {
            "_view_name": "LayoutView",
            "grid_template_rows": null,
            "right": null,
            "justify_content": null,
            "_view_module": "@jupyter-widgets/base",
            "overflow": null,
            "_model_module_version": "1.2.0",
            "_view_count": null,
            "flex_flow": null,
            "width": null,
            "min_width": null,
            "border": null,
            "align_items": null,
            "bottom": null,
            "_model_module": "@jupyter-widgets/base",
            "top": null,
            "grid_column": null,
            "overflow_y": null,
            "overflow_x": null,
            "grid_auto_flow": null,
            "grid_area": null,
            "grid_template_columns": null,
            "flex": null,
            "_model_name": "LayoutModel",
            "justify_items": null,
            "grid_row": null,
            "max_height": null,
            "align_content": null,
            "visibility": null,
            "align_self": null,
            "height": null,
            "min_height": null,
            "padding": null,
            "grid_auto_rows": null,
            "grid_gap": null,
            "max_width": null,
            "order": null,
            "_view_module_version": "1.2.0",
            "grid_template_areas": null,
            "object_position": null,
            "object_fit": null,
            "grid_auto_columns": null,
            "margin": null,
            "display": null,
            "left": null
          }
        },
        "1bb0b6c6573e4206957236c81f29dde4": {
          "model_module": "@jupyter-widgets/controls",
          "model_name": "DescriptionStyleModel",
          "state": {
            "_view_name": "StyleView",
            "_model_name": "DescriptionStyleModel",
            "description_width": "",
            "_view_module": "@jupyter-widgets/base",
            "_model_module_version": "1.5.0",
            "_view_count": null,
            "_view_module_version": "1.2.0",
            "_model_module": "@jupyter-widgets/controls"
          }
        },
        "5d81e505bbef49c9b6af0625731df1eb": {
          "model_module": "@jupyter-widgets/base",
          "model_name": "LayoutModel",
          "state": {
            "_view_name": "LayoutView",
            "grid_template_rows": null,
            "right": null,
            "justify_content": null,
            "_view_module": "@jupyter-widgets/base",
            "overflow": null,
            "_model_module_version": "1.2.0",
            "_view_count": null,
            "flex_flow": null,
            "width": null,
            "min_width": null,
            "border": null,
            "align_items": null,
            "bottom": null,
            "_model_module": "@jupyter-widgets/base",
            "top": null,
            "grid_column": null,
            "overflow_y": null,
            "overflow_x": null,
            "grid_auto_flow": null,
            "grid_area": null,
            "grid_template_columns": null,
            "flex": null,
            "_model_name": "LayoutModel",
            "justify_items": null,
            "grid_row": null,
            "max_height": null,
            "align_content": null,
            "visibility": null,
            "align_self": null,
            "height": null,
            "min_height": null,
            "padding": null,
            "grid_auto_rows": null,
            "grid_gap": null,
            "max_width": null,
            "order": null,
            "_view_module_version": "1.2.0",
            "grid_template_areas": null,
            "object_position": null,
            "object_fit": null,
            "grid_auto_columns": null,
            "margin": null,
            "display": null,
            "left": null
          }
        }
      }
    }
  },
  "cells": [
    {
      "cell_type": "markdown",
      "metadata": {
        "id": "view-in-github",
        "colab_type": "text"
      },
      "source": [
        "<a href=\"https://colab.research.google.com/github/st-le/pytorch_deep_learning/blob/master/hello_nn_more_layers.ipynb\" target=\"_parent\"><img src=\"https://colab.research.google.com/assets/colab-badge.svg\" alt=\"Open In Colab\"/></a>"
      ]
    },
    {
      "cell_type": "markdown",
      "metadata": {
        "id": "M4JJWjrgsunv",
        "colab_type": "text"
      },
      "source": [
        "**TODO**: document the vanishing gradient and the fix. Hint: revert this"
      ]
    },
    {
      "cell_type": "markdown",
      "metadata": {
        "id": "ZsWMb4n0qJkE",
        "colab_type": "text"
      },
      "source": [
        "some imports\n"
      ]
    },
    {
      "cell_type": "code",
      "metadata": {
        "id": "5pD1UQSYU5zx",
        "colab_type": "code",
        "colab": {}
      },
      "source": [
        "import torch.optim as optim \n",
        "import numpy as np\n",
        "import matplotlib.pyplot as plt\n",
        "from torchvision import transforms\n",
        "import cv2"
      ],
      "execution_count": 0,
      "outputs": []
    },
    {
      "cell_type": "markdown",
      "metadata": {
        "id": "66DXlyo7RZlP",
        "colab_type": "text"
      },
      "source": [
        "someone mnist model"
      ]
    },
    {
      "cell_type": "code",
      "metadata": {
        "id": "qMpK7heLRbjU",
        "colab_type": "code",
        "colab": {}
      },
      "source": [
        "import torch\n",
        "import torch.nn as nn\n",
        "import torch.nn.functional as F\n",
        "import torch.optim as optim\n",
        "\n",
        "class Net(nn.Module):\n",
        "    def __init__(self):\n",
        "        super(Net, self).__init__()\n",
        "        self.conv1 = nn.Conv2d(1, 32, 3, 1)\n",
        "        self.conv2 = nn.Conv2d(32, 64, 3, 1)\n",
        "        self.dropout1 = nn.Dropout2d(0.25)\n",
        "        self.dropout2 = nn.Dropout2d(0.5)\n",
        "        self.fc1 = nn.Linear(9216, 128)\n",
        "        self.fc2 = nn.Linear(128, 10)\n",
        "\n",
        "    def forward(self, x):\n",
        "        x = self.conv1(x)\n",
        "        x = F.relu(x)\n",
        "        x = self.conv2(x)\n",
        "        x = F.max_pool2d(x, 2)\n",
        "        x = self.dropout1(x)\n",
        "        x = torch.flatten(x, 1)\n",
        "        x = self.fc1(x)\n",
        "        x = F.relu(x)\n",
        "        x = self.dropout2(x)\n",
        "        x = self.fc2(x)\n",
        "        output = F.log_softmax(x, dim=1)\n",
        "        return output\n",
        "\n",
        "class dumbNet(nn.Module):\n",
        "  def __init__(self):\n",
        "    super(dumbNet, self).__init__()\n",
        "    # self.ln1 = nn.Linear(784,128)\n",
        "    # self.ln2 = nn.Linear(128,10)\n",
        "    self.ln1 = nn.Linear(2352, 1400)\n",
        "    self.ln2 = nn.Linear(1400,700)\n",
        "    self.ln3 = nn.Linear(700,10)\n",
        "\n",
        "  def forward(self,x):\n",
        "    x = self.ln1(x)\n",
        "    x = F.relu(x)        \n",
        "    x = self.ln2(x)    \n",
        "    x = F.relu(x)\n",
        "    x = self.ln3(x)\n",
        "    x = F.relu(x)\n",
        "    x = F.softmax(x)\n",
        "    return x\n",
        "\n",
        "  def relu2_out(self, x):\n",
        "    x = self.ln1(x)\n",
        "    x = F.relu(x)\n",
        "    x = self.ln2(x)\n",
        "    x = F.relu(x)\n",
        "    return x"
      ],
      "execution_count": 0,
      "outputs": []
    },
    {
      "cell_type": "markdown",
      "metadata": {
        "id": "vlQKR0icUzsV",
        "colab_type": "text"
      },
      "source": [
        "get some data"
      ]
    },
    {
      "cell_type": "code",
      "metadata": {
        "id": "lqjtNMnDapMN",
        "colab_type": "code",
        "outputId": "23a8d91b-2b12-4acd-d778-1c60de55ef66",
        "colab": {
          "base_uri": "https://localhost:8080/",
          "height": 419,
          "referenced_widgets": [
            "fe8bd827828445c99cfb02d158eb47a3",
            "7863fbd27ef341bbb9732e9492a30467",
            "b2e1591298cf4fd687b3f8cb5c6b4aa7",
            "096b7e3dc8354a75bc57f7d0a6ab70c7",
            "0da9da5df28f4c20901255414981e5a0",
            "514f06862c3d40a99902e9d90f50197a",
            "1bb0b6c6573e4206957236c81f29dde4",
            "5d81e505bbef49c9b6af0625731df1eb"
          ]
        }
      },
      "source": [
        "from __future__ import print_function\n",
        "import torch\n",
        "import torch.nn as nn\n",
        "\n",
        "from torchvision import datasets\n",
        "# import datasets.MNIST as MNIST\n",
        "\n",
        "\n",
        "from PIL import Image\n",
        "\n",
        "# x = torch.rand(10)\n",
        "# print(x)\n",
        "mnist = datasets.MNIST('../sdata', download=True)\n",
        "# mnist = datasets.MNIST('../sdata')\n",
        "print('MNIST size = ',len(mnist))\n",
        "item = mnist.__getitem__(0) \n",
        "img = np.array(item[0])\n",
        "y = item[1]\n",
        "print(img.shape)\n",
        "print(img.flatten().squeeze().shape)\n",
        "print(type(img))\n",
        "print('gt is: ', y)\n",
        "print('gt type is: ', type(y))\n",
        "\n",
        "inp = img.flatten().squeeze()\n",
        "plt.imshow(img)\n",
        "plt.show()\n",
        "\n",
        "print(img.shape)\n",
        "print(img.dtype)"
      ],
      "execution_count": 4,
      "outputs": [
        {
          "output_type": "stream",
          "text": [
            "Downloading http://yann.lecun.com/exdb/mnist/train-images-idx3-ubyte.gz to ../sdata/MNIST/raw/train-images-idx3-ubyte.gz\n"
          ],
          "name": "stdout"
        },
        {
          "output_type": "display_data",
          "data": {
            "application/vnd.jupyter.widget-view+json": {
              "model_id": "fe8bd827828445c99cfb02d158eb47a3",
              "version_minor": 0,
              "version_major": 2
            },
            "text/plain": [
              "HBox(children=(IntProgress(value=1, bar_style='info', max=1), HTML(value='')))"
            ]
          },
          "metadata": {
            "tags": []
          }
        },
        {
          "output_type": "error",
          "ename": "HTTPError",
          "evalue": "ignored",
          "traceback": [
            "\u001b[0;31m---------------------------------------------------------------------------\u001b[0m",
            "\u001b[0;31mHTTPError\u001b[0m                                 Traceback (most recent call last)",
            "\u001b[0;32m<ipython-input-4-efb96e5df197>\u001b[0m in \u001b[0;36m<module>\u001b[0;34m()\u001b[0m\n\u001b[1;32m     11\u001b[0m \u001b[0;31m# x = torch.rand(10)\u001b[0m\u001b[0;34m\u001b[0m\u001b[0;34m\u001b[0m\u001b[0;34m\u001b[0m\u001b[0m\n\u001b[1;32m     12\u001b[0m \u001b[0;31m# print(x)\u001b[0m\u001b[0;34m\u001b[0m\u001b[0;34m\u001b[0m\u001b[0;34m\u001b[0m\u001b[0m\n\u001b[0;32m---> 13\u001b[0;31m \u001b[0mmnist\u001b[0m \u001b[0;34m=\u001b[0m \u001b[0mdatasets\u001b[0m\u001b[0;34m.\u001b[0m\u001b[0mMNIST\u001b[0m\u001b[0;34m(\u001b[0m\u001b[0;34m'../sdata'\u001b[0m\u001b[0;34m,\u001b[0m \u001b[0mdownload\u001b[0m\u001b[0;34m=\u001b[0m\u001b[0;32mTrue\u001b[0m\u001b[0;34m)\u001b[0m\u001b[0;34m\u001b[0m\u001b[0;34m\u001b[0m\u001b[0m\n\u001b[0m\u001b[1;32m     14\u001b[0m \u001b[0;31m# mnist = datasets.MNIST('../sdata')\u001b[0m\u001b[0;34m\u001b[0m\u001b[0;34m\u001b[0m\u001b[0;34m\u001b[0m\u001b[0m\n\u001b[1;32m     15\u001b[0m \u001b[0mprint\u001b[0m\u001b[0;34m(\u001b[0m\u001b[0;34m'MNIST size = '\u001b[0m\u001b[0;34m,\u001b[0m\u001b[0mlen\u001b[0m\u001b[0;34m(\u001b[0m\u001b[0mmnist\u001b[0m\u001b[0;34m)\u001b[0m\u001b[0;34m)\u001b[0m\u001b[0;34m\u001b[0m\u001b[0;34m\u001b[0m\u001b[0m\n",
            "\u001b[0;32m/usr/local/lib/python3.6/dist-packages/torchvision/datasets/mnist.py\u001b[0m in \u001b[0;36m__init__\u001b[0;34m(self, root, train, transform, target_transform, download)\u001b[0m\n\u001b[1;32m     68\u001b[0m \u001b[0;34m\u001b[0m\u001b[0m\n\u001b[1;32m     69\u001b[0m         \u001b[0;32mif\u001b[0m \u001b[0mdownload\u001b[0m\u001b[0;34m:\u001b[0m\u001b[0;34m\u001b[0m\u001b[0;34m\u001b[0m\u001b[0m\n\u001b[0;32m---> 70\u001b[0;31m             \u001b[0mself\u001b[0m\u001b[0;34m.\u001b[0m\u001b[0mdownload\u001b[0m\u001b[0;34m(\u001b[0m\u001b[0;34m)\u001b[0m\u001b[0;34m\u001b[0m\u001b[0;34m\u001b[0m\u001b[0m\n\u001b[0m\u001b[1;32m     71\u001b[0m \u001b[0;34m\u001b[0m\u001b[0m\n\u001b[1;32m     72\u001b[0m         \u001b[0;32mif\u001b[0m \u001b[0;32mnot\u001b[0m \u001b[0mself\u001b[0m\u001b[0;34m.\u001b[0m\u001b[0m_check_exists\u001b[0m\u001b[0;34m(\u001b[0m\u001b[0;34m)\u001b[0m\u001b[0;34m:\u001b[0m\u001b[0;34m\u001b[0m\u001b[0;34m\u001b[0m\u001b[0m\n",
            "\u001b[0;32m/usr/local/lib/python3.6/dist-packages/torchvision/datasets/mnist.py\u001b[0m in \u001b[0;36mdownload\u001b[0;34m(self)\u001b[0m\n\u001b[1;32m    135\u001b[0m         \u001b[0;32mfor\u001b[0m \u001b[0murl\u001b[0m\u001b[0;34m,\u001b[0m \u001b[0mmd5\u001b[0m \u001b[0;32min\u001b[0m \u001b[0mself\u001b[0m\u001b[0;34m.\u001b[0m\u001b[0mresources\u001b[0m\u001b[0;34m:\u001b[0m\u001b[0;34m\u001b[0m\u001b[0;34m\u001b[0m\u001b[0m\n\u001b[1;32m    136\u001b[0m             \u001b[0mfilename\u001b[0m \u001b[0;34m=\u001b[0m \u001b[0murl\u001b[0m\u001b[0;34m.\u001b[0m\u001b[0mrpartition\u001b[0m\u001b[0;34m(\u001b[0m\u001b[0;34m'/'\u001b[0m\u001b[0;34m)\u001b[0m\u001b[0;34m[\u001b[0m\u001b[0;36m2\u001b[0m\u001b[0;34m]\u001b[0m\u001b[0;34m\u001b[0m\u001b[0;34m\u001b[0m\u001b[0m\n\u001b[0;32m--> 137\u001b[0;31m             \u001b[0mdownload_and_extract_archive\u001b[0m\u001b[0;34m(\u001b[0m\u001b[0murl\u001b[0m\u001b[0;34m,\u001b[0m \u001b[0mdownload_root\u001b[0m\u001b[0;34m=\u001b[0m\u001b[0mself\u001b[0m\u001b[0;34m.\u001b[0m\u001b[0mraw_folder\u001b[0m\u001b[0;34m,\u001b[0m \u001b[0mfilename\u001b[0m\u001b[0;34m=\u001b[0m\u001b[0mfilename\u001b[0m\u001b[0;34m,\u001b[0m \u001b[0mmd5\u001b[0m\u001b[0;34m=\u001b[0m\u001b[0mmd5\u001b[0m\u001b[0;34m)\u001b[0m\u001b[0;34m\u001b[0m\u001b[0;34m\u001b[0m\u001b[0m\n\u001b[0m\u001b[1;32m    138\u001b[0m \u001b[0;34m\u001b[0m\u001b[0m\n\u001b[1;32m    139\u001b[0m         \u001b[0;31m# process and save as torch files\u001b[0m\u001b[0;34m\u001b[0m\u001b[0;34m\u001b[0m\u001b[0;34m\u001b[0m\u001b[0m\n",
            "\u001b[0;32m/usr/local/lib/python3.6/dist-packages/torchvision/datasets/utils.py\u001b[0m in \u001b[0;36mdownload_and_extract_archive\u001b[0;34m(url, download_root, extract_root, filename, md5, remove_finished)\u001b[0m\n\u001b[1;32m    262\u001b[0m         \u001b[0mfilename\u001b[0m \u001b[0;34m=\u001b[0m \u001b[0mos\u001b[0m\u001b[0;34m.\u001b[0m\u001b[0mpath\u001b[0m\u001b[0;34m.\u001b[0m\u001b[0mbasename\u001b[0m\u001b[0;34m(\u001b[0m\u001b[0murl\u001b[0m\u001b[0;34m)\u001b[0m\u001b[0;34m\u001b[0m\u001b[0;34m\u001b[0m\u001b[0m\n\u001b[1;32m    263\u001b[0m \u001b[0;34m\u001b[0m\u001b[0m\n\u001b[0;32m--> 264\u001b[0;31m     \u001b[0mdownload_url\u001b[0m\u001b[0;34m(\u001b[0m\u001b[0murl\u001b[0m\u001b[0;34m,\u001b[0m \u001b[0mdownload_root\u001b[0m\u001b[0;34m,\u001b[0m \u001b[0mfilename\u001b[0m\u001b[0;34m,\u001b[0m \u001b[0mmd5\u001b[0m\u001b[0;34m)\u001b[0m\u001b[0;34m\u001b[0m\u001b[0;34m\u001b[0m\u001b[0m\n\u001b[0m\u001b[1;32m    265\u001b[0m \u001b[0;34m\u001b[0m\u001b[0m\n\u001b[1;32m    266\u001b[0m     \u001b[0marchive\u001b[0m \u001b[0;34m=\u001b[0m \u001b[0mos\u001b[0m\u001b[0;34m.\u001b[0m\u001b[0mpath\u001b[0m\u001b[0;34m.\u001b[0m\u001b[0mjoin\u001b[0m\u001b[0;34m(\u001b[0m\u001b[0mdownload_root\u001b[0m\u001b[0;34m,\u001b[0m \u001b[0mfilename\u001b[0m\u001b[0;34m)\u001b[0m\u001b[0;34m\u001b[0m\u001b[0;34m\u001b[0m\u001b[0m\n",
            "\u001b[0;32m/usr/local/lib/python3.6/dist-packages/torchvision/datasets/utils.py\u001b[0m in \u001b[0;36mdownload_url\u001b[0;34m(url, root, filename, md5)\u001b[0m\n\u001b[1;32m     95\u001b[0m                 )\n\u001b[1;32m     96\u001b[0m             \u001b[0;32melse\u001b[0m\u001b[0;34m:\u001b[0m\u001b[0;34m\u001b[0m\u001b[0;34m\u001b[0m\u001b[0m\n\u001b[0;32m---> 97\u001b[0;31m                 \u001b[0;32mraise\u001b[0m \u001b[0me\u001b[0m\u001b[0;34m\u001b[0m\u001b[0;34m\u001b[0m\u001b[0m\n\u001b[0m\u001b[1;32m     98\u001b[0m         \u001b[0;31m# check integrity of downloaded file\u001b[0m\u001b[0;34m\u001b[0m\u001b[0;34m\u001b[0m\u001b[0;34m\u001b[0m\u001b[0m\n\u001b[1;32m     99\u001b[0m         \u001b[0;32mif\u001b[0m \u001b[0;32mnot\u001b[0m \u001b[0mcheck_integrity\u001b[0m\u001b[0;34m(\u001b[0m\u001b[0mfpath\u001b[0m\u001b[0;34m,\u001b[0m \u001b[0mmd5\u001b[0m\u001b[0;34m)\u001b[0m\u001b[0;34m:\u001b[0m\u001b[0;34m\u001b[0m\u001b[0;34m\u001b[0m\u001b[0m\n",
            "\u001b[0;32m/usr/local/lib/python3.6/dist-packages/torchvision/datasets/utils.py\u001b[0m in \u001b[0;36mdownload_url\u001b[0;34m(url, root, filename, md5)\u001b[0m\n\u001b[1;32m     83\u001b[0m             urllib.request.urlretrieve(\n\u001b[1;32m     84\u001b[0m                 \u001b[0murl\u001b[0m\u001b[0;34m,\u001b[0m \u001b[0mfpath\u001b[0m\u001b[0;34m,\u001b[0m\u001b[0;34m\u001b[0m\u001b[0;34m\u001b[0m\u001b[0m\n\u001b[0;32m---> 85\u001b[0;31m                 \u001b[0mreporthook\u001b[0m\u001b[0;34m=\u001b[0m\u001b[0mgen_bar_updater\u001b[0m\u001b[0;34m(\u001b[0m\u001b[0;34m)\u001b[0m\u001b[0;34m\u001b[0m\u001b[0;34m\u001b[0m\u001b[0m\n\u001b[0m\u001b[1;32m     86\u001b[0m             )\n\u001b[1;32m     87\u001b[0m         \u001b[0;32mexcept\u001b[0m \u001b[0;34m(\u001b[0m\u001b[0murllib\u001b[0m\u001b[0;34m.\u001b[0m\u001b[0merror\u001b[0m\u001b[0;34m.\u001b[0m\u001b[0mURLError\u001b[0m\u001b[0;34m,\u001b[0m \u001b[0mIOError\u001b[0m\u001b[0;34m)\u001b[0m \u001b[0;32mas\u001b[0m \u001b[0me\u001b[0m\u001b[0;34m:\u001b[0m\u001b[0;34m\u001b[0m\u001b[0;34m\u001b[0m\u001b[0m\n",
            "\u001b[0;32m/usr/lib/python3.6/urllib/request.py\u001b[0m in \u001b[0;36murlretrieve\u001b[0;34m(url, filename, reporthook, data)\u001b[0m\n\u001b[1;32m    246\u001b[0m     \u001b[0murl_type\u001b[0m\u001b[0;34m,\u001b[0m \u001b[0mpath\u001b[0m \u001b[0;34m=\u001b[0m \u001b[0msplittype\u001b[0m\u001b[0;34m(\u001b[0m\u001b[0murl\u001b[0m\u001b[0;34m)\u001b[0m\u001b[0;34m\u001b[0m\u001b[0;34m\u001b[0m\u001b[0m\n\u001b[1;32m    247\u001b[0m \u001b[0;34m\u001b[0m\u001b[0m\n\u001b[0;32m--> 248\u001b[0;31m     \u001b[0;32mwith\u001b[0m \u001b[0mcontextlib\u001b[0m\u001b[0;34m.\u001b[0m\u001b[0mclosing\u001b[0m\u001b[0;34m(\u001b[0m\u001b[0murlopen\u001b[0m\u001b[0;34m(\u001b[0m\u001b[0murl\u001b[0m\u001b[0;34m,\u001b[0m \u001b[0mdata\u001b[0m\u001b[0;34m)\u001b[0m\u001b[0;34m)\u001b[0m \u001b[0;32mas\u001b[0m \u001b[0mfp\u001b[0m\u001b[0;34m:\u001b[0m\u001b[0;34m\u001b[0m\u001b[0;34m\u001b[0m\u001b[0m\n\u001b[0m\u001b[1;32m    249\u001b[0m         \u001b[0mheaders\u001b[0m \u001b[0;34m=\u001b[0m \u001b[0mfp\u001b[0m\u001b[0;34m.\u001b[0m\u001b[0minfo\u001b[0m\u001b[0;34m(\u001b[0m\u001b[0;34m)\u001b[0m\u001b[0;34m\u001b[0m\u001b[0;34m\u001b[0m\u001b[0m\n\u001b[1;32m    250\u001b[0m \u001b[0;34m\u001b[0m\u001b[0m\n",
            "\u001b[0;32m/usr/lib/python3.6/urllib/request.py\u001b[0m in \u001b[0;36murlopen\u001b[0;34m(url, data, timeout, cafile, capath, cadefault, context)\u001b[0m\n\u001b[1;32m    221\u001b[0m     \u001b[0;32melse\u001b[0m\u001b[0;34m:\u001b[0m\u001b[0;34m\u001b[0m\u001b[0;34m\u001b[0m\u001b[0m\n\u001b[1;32m    222\u001b[0m         \u001b[0mopener\u001b[0m \u001b[0;34m=\u001b[0m \u001b[0m_opener\u001b[0m\u001b[0;34m\u001b[0m\u001b[0;34m\u001b[0m\u001b[0m\n\u001b[0;32m--> 223\u001b[0;31m     \u001b[0;32mreturn\u001b[0m \u001b[0mopener\u001b[0m\u001b[0;34m.\u001b[0m\u001b[0mopen\u001b[0m\u001b[0;34m(\u001b[0m\u001b[0murl\u001b[0m\u001b[0;34m,\u001b[0m \u001b[0mdata\u001b[0m\u001b[0;34m,\u001b[0m \u001b[0mtimeout\u001b[0m\u001b[0;34m)\u001b[0m\u001b[0;34m\u001b[0m\u001b[0;34m\u001b[0m\u001b[0m\n\u001b[0m\u001b[1;32m    224\u001b[0m \u001b[0;34m\u001b[0m\u001b[0m\n\u001b[1;32m    225\u001b[0m \u001b[0;32mdef\u001b[0m \u001b[0minstall_opener\u001b[0m\u001b[0;34m(\u001b[0m\u001b[0mopener\u001b[0m\u001b[0;34m)\u001b[0m\u001b[0;34m:\u001b[0m\u001b[0;34m\u001b[0m\u001b[0;34m\u001b[0m\u001b[0m\n",
            "\u001b[0;32m/usr/lib/python3.6/urllib/request.py\u001b[0m in \u001b[0;36mopen\u001b[0;34m(self, fullurl, data, timeout)\u001b[0m\n\u001b[1;32m    530\u001b[0m         \u001b[0;32mfor\u001b[0m \u001b[0mprocessor\u001b[0m \u001b[0;32min\u001b[0m \u001b[0mself\u001b[0m\u001b[0;34m.\u001b[0m\u001b[0mprocess_response\u001b[0m\u001b[0;34m.\u001b[0m\u001b[0mget\u001b[0m\u001b[0;34m(\u001b[0m\u001b[0mprotocol\u001b[0m\u001b[0;34m,\u001b[0m \u001b[0;34m[\u001b[0m\u001b[0;34m]\u001b[0m\u001b[0;34m)\u001b[0m\u001b[0;34m:\u001b[0m\u001b[0;34m\u001b[0m\u001b[0;34m\u001b[0m\u001b[0m\n\u001b[1;32m    531\u001b[0m             \u001b[0mmeth\u001b[0m \u001b[0;34m=\u001b[0m \u001b[0mgetattr\u001b[0m\u001b[0;34m(\u001b[0m\u001b[0mprocessor\u001b[0m\u001b[0;34m,\u001b[0m \u001b[0mmeth_name\u001b[0m\u001b[0;34m)\u001b[0m\u001b[0;34m\u001b[0m\u001b[0;34m\u001b[0m\u001b[0m\n\u001b[0;32m--> 532\u001b[0;31m             \u001b[0mresponse\u001b[0m \u001b[0;34m=\u001b[0m \u001b[0mmeth\u001b[0m\u001b[0;34m(\u001b[0m\u001b[0mreq\u001b[0m\u001b[0;34m,\u001b[0m \u001b[0mresponse\u001b[0m\u001b[0;34m)\u001b[0m\u001b[0;34m\u001b[0m\u001b[0;34m\u001b[0m\u001b[0m\n\u001b[0m\u001b[1;32m    533\u001b[0m \u001b[0;34m\u001b[0m\u001b[0m\n\u001b[1;32m    534\u001b[0m         \u001b[0;32mreturn\u001b[0m \u001b[0mresponse\u001b[0m\u001b[0;34m\u001b[0m\u001b[0;34m\u001b[0m\u001b[0m\n",
            "\u001b[0;32m/usr/lib/python3.6/urllib/request.py\u001b[0m in \u001b[0;36mhttp_response\u001b[0;34m(self, request, response)\u001b[0m\n\u001b[1;32m    640\u001b[0m         \u001b[0;32mif\u001b[0m \u001b[0;32mnot\u001b[0m \u001b[0;34m(\u001b[0m\u001b[0;36m200\u001b[0m \u001b[0;34m<=\u001b[0m \u001b[0mcode\u001b[0m \u001b[0;34m<\u001b[0m \u001b[0;36m300\u001b[0m\u001b[0;34m)\u001b[0m\u001b[0;34m:\u001b[0m\u001b[0;34m\u001b[0m\u001b[0;34m\u001b[0m\u001b[0m\n\u001b[1;32m    641\u001b[0m             response = self.parent.error(\n\u001b[0;32m--> 642\u001b[0;31m                 'http', request, response, code, msg, hdrs)\n\u001b[0m\u001b[1;32m    643\u001b[0m \u001b[0;34m\u001b[0m\u001b[0m\n\u001b[1;32m    644\u001b[0m         \u001b[0;32mreturn\u001b[0m \u001b[0mresponse\u001b[0m\u001b[0;34m\u001b[0m\u001b[0;34m\u001b[0m\u001b[0m\n",
            "\u001b[0;32m/usr/lib/python3.6/urllib/request.py\u001b[0m in \u001b[0;36merror\u001b[0;34m(self, proto, *args)\u001b[0m\n\u001b[1;32m    568\u001b[0m         \u001b[0;32mif\u001b[0m \u001b[0mhttp_err\u001b[0m\u001b[0;34m:\u001b[0m\u001b[0;34m\u001b[0m\u001b[0;34m\u001b[0m\u001b[0m\n\u001b[1;32m    569\u001b[0m             \u001b[0margs\u001b[0m \u001b[0;34m=\u001b[0m \u001b[0;34m(\u001b[0m\u001b[0mdict\u001b[0m\u001b[0;34m,\u001b[0m \u001b[0;34m'default'\u001b[0m\u001b[0;34m,\u001b[0m \u001b[0;34m'http_error_default'\u001b[0m\u001b[0;34m)\u001b[0m \u001b[0;34m+\u001b[0m \u001b[0morig_args\u001b[0m\u001b[0;34m\u001b[0m\u001b[0;34m\u001b[0m\u001b[0m\n\u001b[0;32m--> 570\u001b[0;31m             \u001b[0;32mreturn\u001b[0m \u001b[0mself\u001b[0m\u001b[0;34m.\u001b[0m\u001b[0m_call_chain\u001b[0m\u001b[0;34m(\u001b[0m\u001b[0;34m*\u001b[0m\u001b[0margs\u001b[0m\u001b[0;34m)\u001b[0m\u001b[0;34m\u001b[0m\u001b[0;34m\u001b[0m\u001b[0m\n\u001b[0m\u001b[1;32m    571\u001b[0m \u001b[0;34m\u001b[0m\u001b[0m\n\u001b[1;32m    572\u001b[0m \u001b[0;31m# XXX probably also want an abstract factory that knows when it makes\u001b[0m\u001b[0;34m\u001b[0m\u001b[0;34m\u001b[0m\u001b[0;34m\u001b[0m\u001b[0m\n",
            "\u001b[0;32m/usr/lib/python3.6/urllib/request.py\u001b[0m in \u001b[0;36m_call_chain\u001b[0;34m(self, chain, kind, meth_name, *args)\u001b[0m\n\u001b[1;32m    502\u001b[0m         \u001b[0;32mfor\u001b[0m \u001b[0mhandler\u001b[0m \u001b[0;32min\u001b[0m \u001b[0mhandlers\u001b[0m\u001b[0;34m:\u001b[0m\u001b[0;34m\u001b[0m\u001b[0;34m\u001b[0m\u001b[0m\n\u001b[1;32m    503\u001b[0m             \u001b[0mfunc\u001b[0m \u001b[0;34m=\u001b[0m \u001b[0mgetattr\u001b[0m\u001b[0;34m(\u001b[0m\u001b[0mhandler\u001b[0m\u001b[0;34m,\u001b[0m \u001b[0mmeth_name\u001b[0m\u001b[0;34m)\u001b[0m\u001b[0;34m\u001b[0m\u001b[0;34m\u001b[0m\u001b[0m\n\u001b[0;32m--> 504\u001b[0;31m             \u001b[0mresult\u001b[0m \u001b[0;34m=\u001b[0m \u001b[0mfunc\u001b[0m\u001b[0;34m(\u001b[0m\u001b[0;34m*\u001b[0m\u001b[0margs\u001b[0m\u001b[0;34m)\u001b[0m\u001b[0;34m\u001b[0m\u001b[0;34m\u001b[0m\u001b[0m\n\u001b[0m\u001b[1;32m    505\u001b[0m             \u001b[0;32mif\u001b[0m \u001b[0mresult\u001b[0m \u001b[0;32mis\u001b[0m \u001b[0;32mnot\u001b[0m \u001b[0;32mNone\u001b[0m\u001b[0;34m:\u001b[0m\u001b[0;34m\u001b[0m\u001b[0;34m\u001b[0m\u001b[0m\n\u001b[1;32m    506\u001b[0m                 \u001b[0;32mreturn\u001b[0m \u001b[0mresult\u001b[0m\u001b[0;34m\u001b[0m\u001b[0;34m\u001b[0m\u001b[0m\n",
            "\u001b[0;32m/usr/lib/python3.6/urllib/request.py\u001b[0m in \u001b[0;36mhttp_error_default\u001b[0;34m(self, req, fp, code, msg, hdrs)\u001b[0m\n\u001b[1;32m    648\u001b[0m \u001b[0;32mclass\u001b[0m \u001b[0mHTTPDefaultErrorHandler\u001b[0m\u001b[0;34m(\u001b[0m\u001b[0mBaseHandler\u001b[0m\u001b[0;34m)\u001b[0m\u001b[0;34m:\u001b[0m\u001b[0;34m\u001b[0m\u001b[0;34m\u001b[0m\u001b[0m\n\u001b[1;32m    649\u001b[0m     \u001b[0;32mdef\u001b[0m \u001b[0mhttp_error_default\u001b[0m\u001b[0;34m(\u001b[0m\u001b[0mself\u001b[0m\u001b[0;34m,\u001b[0m \u001b[0mreq\u001b[0m\u001b[0;34m,\u001b[0m \u001b[0mfp\u001b[0m\u001b[0;34m,\u001b[0m \u001b[0mcode\u001b[0m\u001b[0;34m,\u001b[0m \u001b[0mmsg\u001b[0m\u001b[0;34m,\u001b[0m \u001b[0mhdrs\u001b[0m\u001b[0;34m)\u001b[0m\u001b[0;34m:\u001b[0m\u001b[0;34m\u001b[0m\u001b[0;34m\u001b[0m\u001b[0m\n\u001b[0;32m--> 650\u001b[0;31m         \u001b[0;32mraise\u001b[0m \u001b[0mHTTPError\u001b[0m\u001b[0;34m(\u001b[0m\u001b[0mreq\u001b[0m\u001b[0;34m.\u001b[0m\u001b[0mfull_url\u001b[0m\u001b[0;34m,\u001b[0m \u001b[0mcode\u001b[0m\u001b[0;34m,\u001b[0m \u001b[0mmsg\u001b[0m\u001b[0;34m,\u001b[0m \u001b[0mhdrs\u001b[0m\u001b[0;34m,\u001b[0m \u001b[0mfp\u001b[0m\u001b[0;34m)\u001b[0m\u001b[0;34m\u001b[0m\u001b[0;34m\u001b[0m\u001b[0m\n\u001b[0m\u001b[1;32m    651\u001b[0m \u001b[0;34m\u001b[0m\u001b[0m\n\u001b[1;32m    652\u001b[0m \u001b[0;32mclass\u001b[0m \u001b[0mHTTPRedirectHandler\u001b[0m\u001b[0;34m(\u001b[0m\u001b[0mBaseHandler\u001b[0m\u001b[0;34m)\u001b[0m\u001b[0;34m:\u001b[0m\u001b[0;34m\u001b[0m\u001b[0;34m\u001b[0m\u001b[0m\n",
            "\u001b[0;31mHTTPError\u001b[0m: HTTP Error 403: Forbidden"
          ]
        }
      ]
    },
    {
      "cell_type": "markdown",
      "metadata": {
        "id": "oB0GgFlT-Dy5",
        "colab_type": "text"
      },
      "source": [
        "create the data processing"
      ]
    },
    {
      "cell_type": "code",
      "metadata": {
        "id": "Dz7z7NuaLAb2",
        "colab_type": "code",
        "colab": {}
      },
      "source": [
        "# print(item[0].size)\n",
        "# rgbimg = Image.new(\"RGBA\", item[0].size)\n",
        "# print(rgbimg.size)\n",
        "# rgbimg.paste(img)\n"
      ],
      "execution_count": 0,
      "outputs": []
    },
    {
      "cell_type": "code",
      "metadata": {
        "id": "2KhnOkfM-G1w",
        "colab_type": "code",
        "outputId": "18df281f-c649-425d-8fd1-6dbe82129eef",
        "colab": {
          "base_uri": "https://localhost:8080/",
          "height": 84
        }
      },
      "source": [
        "# rgbimg = Image.new(\"RGB\", item[0].size)\n",
        "# rgbimg.paste(img)\n",
        "rgbimg = item[0]\n",
        "rgbimg = np.array(rgbimg)\n",
        "print(rgbimg.shape)\n",
        "rgbimg = cv2.cvtColor(rgbimg, cv2.COLOR_GRAY2RGB)\n",
        "rgbimg = Image.fromarray(np.uint8(rgbimg))\n",
        "\n",
        "img_proc = transforms.Compose([\n",
        "                                #  transforms.Resize(64),\n",
        "                                 transforms.ToTensor(),\n",
        "                                # transforms.Normalize(mean=[0.485,0.456], \n",
        "                                #                     std=[0.229,0.224])\n",
        "                                 transforms.Normalize(mean=[0.485,0.456,0.406], \n",
        "                                                      std=[0.229,0.224,0.225])\n",
        "])\n",
        "\n",
        "print(item[0].size)\n",
        "# im = img_proc(item[0])\n",
        "im = img_proc(rgbimg)\n",
        "print(np.array(im).shape)\n",
        "print(np.array(rgbimg).shape)\n"
      ],
      "execution_count": 0,
      "outputs": [
        {
          "output_type": "stream",
          "text": [
            "(28, 28)\n",
            "(28, 28)\n",
            "(3, 28, 28)\n",
            "(28, 28, 3)\n"
          ],
          "name": "stdout"
        }
      ]
    },
    {
      "cell_type": "markdown",
      "metadata": {
        "id": "-Is1sMffqFWw",
        "colab_type": "text"
      },
      "source": [
        "create the model\n"
      ]
    },
    {
      "cell_type": "code",
      "metadata": {
        "id": "Qpyvb4aXqG9v",
        "colab_type": "code",
        "colab": {}
      },
      "source": [
        "\n",
        "# use a dumb net\n",
        "# model = nn.Sequential(\n",
        "#           nn.Linear(784,128),\n",
        "#           nn.ReLU(),\n",
        "#           nn.Linear(128,10),\n",
        "#           nn.ReLU(),\n",
        "#           nn.Softmax()\n",
        "#         )\n",
        "model = dumbNet()\n",
        "\n",
        "\n",
        "# use someone mnist net \n",
        "# model = Net()\n",
        "\n",
        "optimizer = optim.SGD(model.parameters(), lr=0.001)\n",
        "loss_fun = nn.CrossEntropyLoss()\n"
      ],
      "execution_count": 0,
      "outputs": []
    },
    {
      "cell_type": "markdown",
      "metadata": {
        "id": "8HYNJ3c1qN1i",
        "colab_type": "text"
      },
      "source": [
        "inspect the model i.e. the init weights by histograms"
      ]
    },
    {
      "cell_type": "code",
      "metadata": {
        "id": "TgVfdwPjqPgf",
        "colab_type": "code",
        "outputId": "59b4dd2d-720e-46fe-cb4c-5676fb1d8c53",
        "colab": {
          "base_uri": "https://localhost:8080/",
          "height": 1000
        }
      },
      "source": [
        "# for name, param in model.named_parameters():\n",
        "#   print(name, ' --> ', param) \n",
        "for param in model.parameters():\n",
        "  print(param)\n",
        "  w = param.cpu().detach().numpy()\n",
        "  counts, bins = np.histogram(w)\n",
        "  _ = plt.hist(bins[:-1], bins, weights=counts)\n",
        "  plt.show()"
      ],
      "execution_count": 0,
      "outputs": [
        {
          "output_type": "stream",
          "text": [
            "Parameter containing:\n",
            "tensor([[ 3.3739e-04, -1.3772e-02,  3.5747e-03,  ..., -1.6317e-02,\n",
            "         -1.6920e-02, -2.5854e-03],\n",
            "        [-7.7972e-03,  8.2081e-04, -9.6275e-03,  ...,  1.2371e-02,\n",
            "         -1.2903e-02,  6.8496e-03],\n",
            "        [-7.9827e-05, -1.7407e-02,  1.7412e-02,  ...,  1.4124e-02,\n",
            "         -2.5032e-03,  1.0166e-02],\n",
            "        ...,\n",
            "        [ 1.8180e-02,  5.8726e-03,  3.4185e-03,  ...,  5.5394e-03,\n",
            "          5.4831e-03, -1.2946e-03],\n",
            "        [-1.7753e-02,  8.6232e-03,  7.8198e-03,  ..., -1.3174e-02,\n",
            "          1.7379e-03,  8.1333e-03],\n",
            "        [-1.1314e-02, -1.1853e-02, -1.0625e-02,  ...,  1.7428e-02,\n",
            "          1.8685e-02,  9.4691e-04]], requires_grad=True)\n"
          ],
          "name": "stdout"
        },
        {
          "output_type": "display_data",
          "data": {
            "image/png": "[encoded data removed]",
            "text/plain": [
              "<Figure size 432x288 with 1 Axes>"
            ]
          },
          "metadata": {
            "tags": []
          }
        },
        {
          "output_type": "stream",
          "text": [
            "Parameter containing:\n",
            "tensor([-0.0155, -0.0153, -0.0019,  ..., -0.0077,  0.0153,  0.0172],\n",
            "       requires_grad=True)\n"
          ],
          "name": "stdout"
        },
        {
          "output_type": "display_data",
          "data": {
            "image/png": "[encoded data removed]",
            "text/plain": [
              "<Figure size 432x288 with 1 Axes>"
            ]
          },
          "metadata": {
            "tags": []
          }
        },
        {
          "output_type": "stream",
          "text": [
            "Parameter containing:\n",
            "tensor([[ 0.0065, -0.0099, -0.0165,  ..., -0.0149,  0.0122, -0.0086],\n",
            "        [-0.0066, -0.0046,  0.0119,  ..., -0.0021, -0.0192, -0.0004],\n",
            "        [-0.0064, -0.0256,  0.0260,  ..., -0.0094, -0.0167,  0.0184],\n",
            "        ...,\n",
            "        [-0.0149, -0.0002, -0.0064,  ...,  0.0026,  0.0169, -0.0225],\n",
            "        [ 0.0264,  0.0015,  0.0263,  ..., -0.0110, -0.0238, -0.0179],\n",
            "        [-0.0157,  0.0075,  0.0163,  ...,  0.0263,  0.0167,  0.0025]],\n",
            "       requires_grad=True)\n"
          ],
          "name": "stdout"
        },
        {
          "output_type": "display_data",
          "data": {
            "image/png": "[encoded data removed]",
            "text/plain": [
              "<Figure size 432x288 with 1 Axes>"
            ]
          },
          "metadata": {
            "tags": []
          }
        },
        {
          "output_type": "stream",
          "text": [
            "Parameter containing:\n",
            "tensor([-2.4814e-02, -1.0154e-02,  1.6164e-02, -2.3753e-02,  1.3909e-02,\n",
            "         2.5860e-02,  8.0554e-03,  1.3261e-03, -1.2600e-04,  2.0504e-02,\n",
            "         1.7690e-02, -2.5457e-02, -5.2385e-03,  2.3815e-02, -1.6034e-02,\n",
            "         2.6565e-02,  1.4515e-02, -1.5858e-02, -1.1874e-02, -1.2197e-02,\n",
            "        -6.0803e-03,  1.2203e-02,  1.9000e-02,  1.6721e-02,  9.8484e-03,\n",
            "         2.1426e-02, -5.8711e-03, -1.4868e-02,  5.1262e-04, -7.8514e-03,\n",
            "        -1.2622e-03,  5.4195e-03,  1.4745e-02,  6.7899e-03,  3.7375e-03,\n",
            "        -1.8120e-02,  6.1536e-03, -7.9791e-03, -2.3760e-02, -2.2123e-02,\n",
            "         1.4023e-02, -1.5920e-02, -1.4917e-02, -1.3026e-02, -2.1870e-02,\n",
            "         7.8141e-03,  1.1422e-02,  8.4717e-03, -8.1963e-04, -3.9643e-03,\n",
            "         1.8787e-02,  1.4156e-02, -2.2980e-02, -1.4218e-02, -9.9814e-03,\n",
            "        -8.0586e-03,  6.8591e-03, -1.5291e-03, -2.6024e-02, -2.4034e-02,\n",
            "        -3.1909e-03,  1.2915e-02, -6.6357e-03, -2.3755e-02,  7.8090e-04,\n",
            "         1.3631e-02, -1.8990e-03,  1.5906e-02, -7.4829e-04, -1.2107e-02,\n",
            "         2.1414e-02, -1.6880e-03,  2.3630e-02, -1.8971e-02, -2.4031e-04,\n",
            "        -3.3752e-03,  1.8645e-02,  1.6787e-03,  1.4266e-02,  1.3800e-02,\n",
            "        -2.1321e-02,  2.5496e-03,  1.1936e-02, -6.7149e-03, -5.2204e-03,\n",
            "        -9.0153e-03, -1.5308e-02,  1.8585e-03,  6.3877e-03, -1.9645e-02,\n",
            "         2.0857e-02, -1.5122e-02,  1.1207e-02,  1.8474e-02, -7.9343e-03,\n",
            "        -2.0915e-03,  1.3522e-02, -1.6650e-02,  1.8417e-02, -1.0076e-02,\n",
            "        -6.4380e-03,  1.5604e-02, -1.0226e-02,  1.1800e-02, -6.9988e-03,\n",
            "         1.9908e-02, -1.6751e-02, -7.0224e-03,  1.9563e-03, -1.1139e-02,\n",
            "        -1.1432e-02,  2.2137e-03,  2.7376e-03,  7.1950e-03, -1.4286e-02,\n",
            "         2.1568e-02,  2.4836e-02, -5.8550e-03,  2.0200e-02, -1.5122e-02,\n",
            "         3.0947e-04, -5.5500e-03,  1.2459e-02,  1.7011e-03,  1.2369e-02,\n",
            "        -8.7970e-03, -1.0813e-02, -9.5177e-03,  1.8676e-02, -1.6843e-02,\n",
            "         1.2104e-03, -1.1914e-02,  1.4228e-02, -9.4841e-03,  1.9571e-02,\n",
            "        -2.4253e-02, -8.9204e-03,  2.3742e-02,  3.1680e-03, -2.2092e-03,\n",
            "         1.3503e-02,  5.5755e-03,  1.6086e-02, -4.2351e-03,  9.7650e-03,\n",
            "         2.4004e-02,  2.5712e-02,  1.4770e-02, -1.8488e-02, -1.8573e-02,\n",
            "         2.0021e-02,  1.1851e-02,  4.5778e-03,  4.1051e-03,  1.3303e-02,\n",
            "        -1.2601e-02,  9.0743e-04, -1.5861e-02,  1.3366e-02, -2.6513e-02,\n",
            "         1.5591e-02,  1.6114e-02,  3.6769e-03,  4.0824e-03,  1.3650e-02,\n",
            "        -1.1254e-02, -2.0441e-02,  9.0100e-03, -2.1165e-02,  2.4905e-02,\n",
            "         4.6854e-03, -1.5989e-03,  1.4057e-02, -1.3853e-03,  1.4592e-02,\n",
            "         1.3528e-02, -3.3050e-03, -1.4612e-02,  2.7728e-04,  1.4790e-02,\n",
            "         2.5526e-03,  1.3352e-02, -1.9322e-02, -5.7349e-03, -1.9699e-02,\n",
            "         1.1452e-02,  1.5039e-02, -2.2372e-02, -1.7590e-02,  1.0425e-02,\n",
            "        -1.7843e-02, -1.2106e-02, -9.7160e-03, -2.8509e-03,  1.5924e-03,\n",
            "        -8.2395e-03,  1.3591e-02,  1.7862e-02, -2.3880e-02,  1.1186e-02,\n",
            "         1.6178e-02,  1.5388e-02, -1.0576e-02, -2.5183e-02, -1.1154e-02,\n",
            "         3.2980e-03, -1.0095e-02, -7.6967e-03,  1.7986e-02,  1.7482e-02,\n",
            "        -9.3777e-03, -1.9866e-02,  4.0282e-03, -2.0959e-02, -1.2150e-02,\n",
            "        -2.5453e-02,  1.0388e-02,  2.1871e-02,  4.2435e-03, -3.7442e-03,\n",
            "         2.3415e-02,  2.0950e-04,  2.3685e-02, -2.5898e-02, -1.4958e-02,\n",
            "         2.3351e-02,  2.0401e-02, -1.1774e-02, -2.5789e-02, -5.3415e-03,\n",
            "        -7.1251e-03,  1.2675e-03, -1.3196e-02, -1.0189e-02, -1.2191e-02,\n",
            "        -2.4633e-03,  1.2154e-03,  2.2585e-02, -2.1543e-02, -1.6633e-02,\n",
            "        -1.3744e-02, -2.6268e-02, -6.7831e-03,  1.4732e-02, -8.6889e-03,\n",
            "        -1.3191e-02,  2.2781e-02, -2.3940e-02,  2.3539e-02, -1.6113e-02,\n",
            "         5.4425e-03, -1.3416e-02, -2.0856e-02,  2.4422e-02,  1.0989e-02,\n",
            "         1.7445e-02, -9.4560e-03,  8.2992e-04,  8.9786e-03,  1.5935e-02,\n",
            "         1.6304e-02,  1.9022e-02, -1.1210e-02, -2.6024e-02, -2.2444e-02,\n",
            "        -2.3093e-02,  4.2768e-03, -1.3768e-02,  2.6105e-02,  1.3567e-02,\n",
            "        -2.5148e-02, -2.3450e-02,  2.6195e-02, -3.6624e-03, -1.9095e-02,\n",
            "        -8.5087e-03,  1.8199e-02, -2.5179e-02,  1.8972e-02,  1.7300e-02,\n",
            "         8.7321e-03,  1.3859e-02,  5.6310e-04, -1.2200e-02,  8.1284e-03,\n",
            "         2.5022e-02, -6.7899e-03, -1.3689e-02, -1.0277e-02,  1.7852e-02,\n",
            "         2.0052e-02,  2.4104e-02,  2.2283e-02, -9.6708e-03, -2.3010e-02,\n",
            "         2.3763e-02,  2.6448e-02,  1.9330e-02, -1.1142e-02,  1.1916e-02,\n",
            "         2.0468e-02, -1.7803e-03,  1.6154e-03, -1.9486e-02, -1.5233e-02,\n",
            "         1.4836e-02, -2.2424e-02,  7.7663e-03,  1.2664e-02, -1.2824e-02,\n",
            "        -2.4055e-02, -2.4088e-02, -4.2374e-03, -1.9309e-02, -1.2344e-02,\n",
            "         2.1392e-02, -3.0332e-03,  1.7211e-02, -1.6660e-02, -1.3997e-02,\n",
            "        -1.5327e-02,  1.8952e-02, -9.9245e-03,  2.6129e-02, -1.3308e-02,\n",
            "         3.9824e-03, -8.3068e-03,  1.1163e-02, -1.6059e-02, -8.8591e-03,\n",
            "        -1.0488e-02, -2.0269e-02, -1.0775e-02,  2.2159e-02, -5.2206e-03,\n",
            "         2.3021e-02, -2.5626e-02, -2.4424e-02, -6.6846e-03, -1.6685e-02,\n",
            "         2.0958e-02,  6.0021e-03, -1.6831e-02,  3.9451e-04,  2.6241e-02,\n",
            "         3.3889e-03,  1.0445e-02, -1.9756e-02, -1.3421e-02,  1.1729e-02,\n",
            "        -2.4351e-02, -1.7000e-02,  7.6263e-03, -4.7746e-03, -1.7674e-02,\n",
            "        -1.0077e-02,  2.4352e-02, -6.1047e-03, -7.0433e-03,  1.8214e-02,\n",
            "        -3.2956e-03,  1.5389e-02, -2.6300e-02, -3.5970e-04,  2.2529e-02,\n",
            "         1.9084e-02,  7.9460e-03,  1.0504e-02, -1.0847e-02, -8.7217e-03,\n",
            "         4.2188e-03, -1.7556e-02, -2.4527e-02, -6.8608e-03,  1.9576e-02,\n",
            "        -2.5334e-02, -1.0699e-02, -1.8265e-02, -1.1893e-02,  1.3295e-02,\n",
            "         1.1625e-02,  3.9269e-03, -5.9892e-03, -2.3418e-03, -1.2460e-02,\n",
            "        -1.3937e-02, -7.4385e-04,  6.5165e-03,  1.1812e-02, -7.4048e-03,\n",
            "         3.2117e-03,  1.0861e-02, -2.2419e-02,  2.7702e-03, -1.9236e-02,\n",
            "        -2.1596e-02, -1.8297e-02, -1.8380e-02,  1.7937e-02,  2.2865e-02,\n",
            "        -9.8447e-03,  1.5253e-02, -5.8682e-03, -1.8965e-02, -2.1501e-02,\n",
            "         1.0004e-03, -5.1211e-03, -1.8597e-02, -2.0611e-02,  1.1582e-02,\n",
            "        -1.7576e-02,  1.9489e-02, -2.3568e-02, -1.6890e-02,  2.4317e-02,\n",
            "        -1.8720e-02,  4.7092e-03,  2.5105e-02, -1.8160e-03,  8.6249e-03,\n",
            "        -2.4647e-03,  7.6948e-05, -1.7516e-02, -1.6665e-02,  9.7868e-03,\n",
            "         8.7430e-04, -2.3940e-03, -1.0983e-02,  7.5144e-03,  2.2642e-02,\n",
            "        -9.6532e-03,  9.1027e-03, -1.0706e-02, -2.6232e-02,  1.5421e-02,\n",
            "         1.1672e-02,  1.0800e-02,  1.6740e-02,  1.0062e-02, -1.9404e-02,\n",
            "        -1.4497e-02,  2.3667e-02, -2.3265e-02, -7.5148e-03,  2.4939e-02,\n",
            "         4.1871e-03, -1.4697e-02, -1.4399e-02,  2.2588e-02,  8.3596e-03,\n",
            "        -2.4649e-02, -2.1056e-02,  2.1861e-02,  2.3776e-02, -2.2253e-02,\n",
            "         2.2047e-02,  1.5038e-02,  2.3749e-02, -1.8286e-02, -2.5130e-02,\n",
            "        -8.1785e-03, -1.5621e-03,  2.6168e-02, -1.3511e-02,  2.1601e-02,\n",
            "         6.8120e-03, -6.7210e-03, -4.4827e-03, -1.4434e-03, -7.2247e-03,\n",
            "         3.6474e-03,  1.8075e-02,  2.3981e-02,  2.4248e-02, -1.0039e-02,\n",
            "         1.2828e-02, -1.1891e-03,  1.1968e-02, -4.6581e-03, -2.1814e-02,\n",
            "        -1.1119e-02,  8.9390e-03, -5.5744e-03,  8.4639e-03, -7.0194e-03,\n",
            "        -2.0017e-03, -1.3757e-02,  1.6706e-02,  7.3873e-03, -2.3027e-02,\n",
            "         4.9886e-03,  7.2197e-03, -4.8178e-03,  1.2553e-02,  5.6227e-03,\n",
            "        -2.0656e-02,  2.9511e-04,  3.8775e-03, -1.0770e-03,  6.8652e-03,\n",
            "         2.8190e-03,  6.1115e-03,  2.2556e-02,  2.2929e-02, -2.4471e-02,\n",
            "        -2.4755e-02,  1.9729e-02,  4.8328e-03,  2.9580e-04,  6.7484e-03,\n",
            "         2.4508e-02,  1.8588e-02, -2.0589e-02,  1.5730e-02, -1.4388e-02,\n",
            "         7.8182e-03, -1.3986e-02,  2.0623e-02,  1.2329e-03, -1.6604e-02,\n",
            "         2.2012e-02, -5.5030e-04,  6.5957e-03,  1.0179e-02,  1.4121e-03,\n",
            "        -2.3833e-02, -1.0668e-03, -2.1612e-02, -1.8930e-02,  1.8690e-02,\n",
            "        -6.8467e-03, -9.0133e-03, -1.1053e-02, -2.4950e-02,  1.3408e-02,\n",
            "         2.3116e-02, -1.0105e-02,  1.2131e-02, -1.9187e-03, -1.7497e-02,\n",
            "        -1.2521e-02,  1.9885e-02,  1.6981e-02, -1.8018e-03,  4.6045e-03,\n",
            "         3.1831e-03,  2.7440e-03, -1.5197e-02,  2.0504e-02, -5.2630e-03,\n",
            "         1.1993e-02, -1.1590e-02, -1.1987e-02,  3.1796e-03,  7.4711e-03,\n",
            "        -2.6332e-02,  1.8515e-02,  1.6869e-02, -1.9034e-03,  1.0447e-02,\n",
            "        -2.0022e-02, -2.2458e-02, -1.1478e-02, -1.6218e-02,  1.7703e-02,\n",
            "        -2.8726e-03,  1.4117e-02,  2.3594e-02,  2.3686e-02,  1.2153e-02,\n",
            "         3.0138e-03,  1.3107e-02, -5.1629e-03,  1.2555e-02,  8.6881e-03,\n",
            "        -2.5539e-02, -1.6213e-02,  9.5760e-04,  6.1506e-03, -2.9540e-03,\n",
            "        -2.5706e-02,  9.4143e-03,  2.0148e-02, -7.5584e-04,  1.6020e-02,\n",
            "        -2.4096e-02,  2.2108e-02,  1.0098e-02,  6.1672e-03, -1.1426e-03,\n",
            "        -1.1331e-02, -4.7253e-03, -8.0730e-03,  2.2144e-02, -1.7757e-02,\n",
            "        -2.3512e-02,  6.4888e-04,  3.6769e-03, -7.9700e-03,  1.2425e-03,\n",
            "         4.1126e-03,  2.6180e-02, -9.7422e-03, -9.2995e-03,  1.2053e-03,\n",
            "        -1.8797e-02,  1.6710e-02, -1.4684e-02, -2.3289e-02,  6.1097e-03,\n",
            "        -1.9291e-02,  1.9576e-02, -2.5762e-02,  2.4172e-02, -2.0052e-02,\n",
            "         2.3226e-02, -7.7988e-03,  2.4206e-02, -2.5595e-02, -2.5260e-02,\n",
            "        -2.4919e-02, -2.0881e-02, -1.7596e-02, -1.9331e-02, -1.6326e-02,\n",
            "        -2.7076e-03,  6.8981e-03,  1.8615e-02,  9.9238e-03, -1.6579e-02,\n",
            "        -1.1154e-02,  2.4860e-02, -1.9327e-02,  2.1263e-02,  6.8216e-03,\n",
            "        -1.2657e-02,  1.0539e-02, -7.9031e-03, -1.8214e-02, -6.8848e-03,\n",
            "         2.3036e-02,  1.6103e-02, -7.9293e-03, -9.5228e-03, -1.8203e-02,\n",
            "        -1.7575e-02, -1.2212e-02,  1.3412e-02,  1.6068e-02,  7.2570e-03,\n",
            "        -1.0000e-02,  2.0923e-03, -1.6920e-02, -2.4127e-02, -8.9246e-03,\n",
            "        -2.6536e-03,  1.1434e-02, -1.4619e-02, -6.7894e-03, -1.5682e-02,\n",
            "        -1.0636e-02,  2.2794e-02, -2.1569e-02, -7.2586e-03, -2.5833e-02,\n",
            "         5.1611e-03,  2.3268e-02,  7.4266e-03,  1.9136e-02, -7.3181e-03,\n",
            "        -1.5542e-02, -6.7089e-03,  5.1104e-04, -9.9562e-03,  2.3604e-02,\n",
            "         2.3085e-02, -9.3498e-04, -1.8342e-02, -1.6270e-03, -2.0916e-02,\n",
            "        -1.8270e-02, -5.1809e-03,  4.9598e-03,  8.0633e-03, -2.5275e-02,\n",
            "        -2.1143e-03,  2.5595e-02,  1.2831e-02, -2.2767e-02,  2.3196e-02,\n",
            "        -2.6161e-02,  2.0424e-02, -1.8566e-02,  2.4360e-02,  1.6570e-02,\n",
            "         8.3238e-03,  2.6326e-02,  8.7210e-03,  9.4575e-03, -1.4713e-02],\n",
            "       requires_grad=True)\n"
          ],
          "name": "stdout"
        },
        {
          "output_type": "display_data",
          "data": {
            "image/png": "[encoded data removed]",
            "text/plain": [
              "<Figure size 432x288 with 1 Axes>"
            ]
          },
          "metadata": {
            "tags": []
          }
        },
        {
          "output_type": "stream",
          "text": [
            "Parameter containing:\n",
            "tensor([[-0.0008, -0.0061,  0.0331,  ...,  0.0366, -0.0345, -0.0170],\n",
            "        [-0.0284, -0.0359, -0.0153,  ...,  0.0233,  0.0124, -0.0085],\n",
            "        [-0.0234,  0.0122, -0.0213,  ...,  0.0370, -0.0334,  0.0146],\n",
            "        ...,\n",
            "        [ 0.0072,  0.0197, -0.0111,  ..., -0.0148, -0.0208, -0.0099],\n",
            "        [-0.0073,  0.0098, -0.0197,  ...,  0.0346,  0.0245,  0.0080],\n",
            "        [-0.0002, -0.0217,  0.0012,  ...,  0.0133,  0.0032,  0.0084]],\n",
            "       requires_grad=True)\n"
          ],
          "name": "stdout"
        },
        {
          "output_type": "display_data",
          "data": {
            "image/png": "[encoded data removed]",
            "text/plain": [
              "<Figure size 432x288 with 1 Axes>"
            ]
          },
          "metadata": {
            "tags": []
          }
        },
        {
          "output_type": "stream",
          "text": [
            "Parameter containing:\n",
            "tensor([ 0.0343, -0.0306, -0.0377,  0.0073,  0.0277, -0.0341, -0.0158, -0.0176,\n",
            "         0.0188, -0.0126], requires_grad=True)\n"
          ],
          "name": "stdout"
        },
        {
          "output_type": "display_data",
          "data": {
            "image/png": "[encoded data removed]",
            "text/plain": [
              "<Figure size 432x288 with 1 Axes>"
            ]
          },
          "metadata": {
            "tags": []
          }
        }
      ]
    },
    {
      "cell_type": "markdown",
      "metadata": {
        "id": "VguzmMRFqWnI",
        "colab_type": "text"
      },
      "source": [
        "run one forward pass\n",
        "\n",
        "**BUG**\n",
        "\n",
        "the bug can be **FOUND** here. High chance it requires normalization of input **values**"
      ]
    },
    {
      "cell_type": "code",
      "metadata": {
        "id": "PRyKzHB1qYfn",
        "colab_type": "code",
        "outputId": "3b3c0590-629c-4182-e93c-b64bcf5a2ed1",
        "colab": {
          "base_uri": "https://localhost:8080/",
          "height": 1000
        }
      },
      "source": [
        "if torch.cuda.is_available():\n",
        "  print(\"cuda is available\")\n",
        "  device = torch.device(\"cuda\")\n",
        "else:\n",
        "  print(\"cuda is NOT available\")\n",
        "  device = torch.device(\"cpu\")\n",
        "\n",
        "# device = torch.device(\"cuda\" if use_cuda else \"cpu\")\n",
        "print(device)\n",
        "model.to(device)\n",
        "\n",
        "for i, batch in enumerate(mnist): \n",
        "  pimg, target = batch\n",
        "  # print(target)\n",
        "  # plt.imshow(img)\n",
        "  # plt.show()\n",
        "  # img = np.array(pimg)\n",
        "  pimg = np.array(pimg)\n",
        "  rgbimg = cv2.cvtColor(pimg, cv2.COLOR_GRAY2RGB)\n",
        "  rgbimg = Image.fromarray(np.uint8(rgbimg))\n",
        "\n",
        "  # gpu_img = torch.tensor(img.flatten().astype('float32'))\n",
        "  # gpu_img = gpu_img.to(device)\n",
        "  # gpu_img = transforms(rgbimg)\n",
        "  gpu_img = img_proc(rgbimg)\n",
        "  gpu_img = gpu_img.to(device)\n",
        "  gpu_img = torch.reshape(gpu_img, (1,2352))\n",
        "  target = torch.tensor(np.array([target]).astype('int64'))\n",
        "  target = target.to(device) \n",
        "\n",
        "  output = model(gpu_img)\n",
        "  output = output.view(1, 10)\n",
        "  rl2_o = model.relu2_out(gpu_img)\n",
        "  \n",
        "  loss = loss_fun(output, target)\n",
        "  print('target = ', target)\n",
        "  # print('rl2 out = ', rl2_o)\n",
        "  # print('out=',output)\n",
        "  print('loss=', loss)\n",
        "  print()\n",
        "  if i == 20 : break\n",
        "\n",
        "# data = torch.tensor(img.flatten().astype('float32'))\n",
        "# output = model(data)\n",
        "# output = output.view(1, 10)\n",
        "\n",
        "# print(output)\n",
        "# print(output.shape)\n",
        "# # print(target)\n",
        "\n",
        "# celoss = nn.CrossEntropyLoss()\n",
        "# target = torch.tensor(np.array([y]).astype('int64'))\n",
        "\n",
        "# loss = celoss(output, target)\n",
        "# print(loss)\n",
        "# print(loss.detach().numpy())"
      ],
      "execution_count": 0,
      "outputs": [
        {
          "output_type": "stream",
          "text": [
            "cuda is available\n",
            "cuda\n",
            "target =  tensor([5], device='cuda:0')\n",
            "loss= tensor(2.2904, device='cuda:0', grad_fn=<NllLossBackward>)\n",
            "\n",
            "target =  tensor([0], device='cuda:0')\n",
            "loss= tensor(2.3083, device='cuda:0', grad_fn=<NllLossBackward>)\n",
            "\n",
            "target =  tensor([4], device='cuda:0')\n",
            "loss= tensor(2.3091, device='cuda:0', grad_fn=<NllLossBackward>)\n",
            "\n",
            "target =  tensor([1], device='cuda:0')\n",
            "loss= tensor(2.3065, device='cuda:0', grad_fn=<NllLossBackward>)\n",
            "\n",
            "target =  tensor([9], device='cuda:0')\n",
            "loss= tensor(2.3044, device='cuda:0', grad_fn=<NllLossBackward>)\n",
            "\n",
            "target =  tensor([2], device='cuda:0')\n",
            "loss= tensor(2.2877, device='cuda:0', grad_fn=<NllLossBackward>)\n",
            "\n",
            "target =  tensor([1], device='cuda:0')\n",
            "loss= tensor(2.3099, device='cuda:0', grad_fn=<NllLossBackward>)\n",
            "\n",
            "target =  tensor([3], device='cuda:0')\n",
            "loss= tensor(2.3139, device='cuda:0', grad_fn=<NllLossBackward>)\n",
            "\n",
            "target =  tensor([1], device='cuda:0')\n",
            "loss= tensor(2.3068, device='cuda:0', grad_fn=<NllLossBackward>)\n",
            "\n",
            "target =  tensor([4], device='cuda:0')\n",
            "loss= tensor(2.3091, device='cuda:0', grad_fn=<NllLossBackward>)\n",
            "\n",
            "target =  tensor([3], device='cuda:0')\n",
            "loss= tensor(2.3087, device='cuda:0', grad_fn=<NllLossBackward>)\n",
            "\n",
            "target =  tensor([5], device='cuda:0')\n",
            "loss= tensor(2.2768, device='cuda:0', grad_fn=<NllLossBackward>)\n",
            "\n",
            "target =  tensor([3], device='cuda:0')\n",
            "loss= tensor(2.3089, device='cuda:0', grad_fn=<NllLossBackward>)\n",
            "\n",
            "target =  tensor([6], device='cuda:0')\n",
            "loss= tensor(2.3043, device='cuda:0', grad_fn=<NllLossBackward>)\n",
            "\n",
            "target =  tensor([1], device='cuda:0')\n",
            "loss= tensor(2.3065, device='cuda:0', grad_fn=<NllLossBackward>)\n",
            "\n",
            "target =  tensor([7], device='cuda:0')\n",
            "loss= tensor(2.3089, device='cuda:0', grad_fn=<NllLossBackward>)\n",
            "\n",
            "target =  tensor([2], device='cuda:0')\n",
            "loss= tensor(2.3096, device='cuda:0', grad_fn=<NllLossBackward>)\n",
            "\n",
            "target =  tensor([8], device='cuda:0')\n",
            "loss= tensor(2.3086, device='cuda:0', grad_fn=<NllLossBackward>)\n",
            "\n",
            "target =  tensor([6], device='cuda:0')\n",
            "loss= tensor(2.2937, device='cuda:0', grad_fn=<NllLossBackward>)\n",
            "\n",
            "target =  tensor([9], device='cuda:0')\n",
            "loss= tensor(2.3076, device='cuda:0', grad_fn=<NllLossBackward>)\n",
            "\n",
            "target =  tensor([4], device='cuda:0')\n",
            "loss= tensor(2.3139, device='cuda:0', grad_fn=<NllLossBackward>)\n",
            "\n"
          ],
          "name": "stdout"
        },
        {
          "output_type": "stream",
          "text": [
            "/usr/local/lib/python3.6/dist-packages/ipykernel_launcher.py:46: UserWarning: Implicit dimension choice for softmax has been deprecated. Change the call to include dim=X as an argument.\n"
          ],
          "name": "stderr"
        }
      ]
    },
    {
      "cell_type": "code",
      "metadata": {
        "id": "ltE6__QtTOkl",
        "colab_type": "code",
        "outputId": "600184d1-6403-47ed-e972-14dd0c2eeae7",
        "colab": {
          "base_uri": "https://localhost:8080/",
          "height": 302
        }
      },
      "source": [
        "\n",
        "n_epoch = 200\n",
        "n_step = 100\n",
        "loss_arr = []\n",
        "grad_arr = []\n",
        "model.train()\n",
        "for epoch in range(n_epoch) :\n",
        "  for i, batch in enumerate(mnist): \n",
        "    optimizer.zero_grad()\n",
        "\n",
        "    pimg, target = batch\n",
        "    # print(target)\n",
        "    # plt.imshow(img)\n",
        "    # plt.show()\n",
        "    # img = np.array(pimg)\n",
        "    pimg = np.array(pimg)\n",
        "    rgbimg = cv2.cvtColor(pimg, cv2.COLOR_GRAY2RGB)\n",
        "    rgbimg = Image.fromarray(np.uint8(rgbimg))\n",
        "\n",
        "    # gpu_img = torch.tensor(img.flatten().astype('float32'))\n",
        "    # gpu_img = gpu_img.to(device)\n",
        "    # gpu_img = transforms(rgbimg)\n",
        "    gpu_img = img_proc(rgbimg)\n",
        "    gpu_img = gpu_img.to(device)\n",
        "    gpu_img = torch.reshape(gpu_img, (1,2352))\n",
        "    target = torch.tensor(np.array([target]).astype('int64'))\n",
        "    target = target.to(device) \n",
        "\n",
        "    output = model(gpu_img)\n",
        "    output = output.view(1, 10)\n",
        "    rl2_o = model.relu2_out(gpu_img)\n",
        "    \n",
        "    loss = loss_fun(output, target)\n",
        "\n",
        "    # img, target = batch\n",
        "    # # print(target)\n",
        "    # # plt.imshow(img)\n",
        "    # # plt.show()\n",
        "    # img = np.array(img)\n",
        "    # gpu_img = torch.tensor(img.flatten().astype('float32'))\n",
        "    # gpu_img = gpu_img.to(device)\n",
        "    # target = torch.tensor(np.array([target]).astype('int64'))\n",
        "    # target = target.to(device)\n",
        "\n",
        "    # output = model(gpu_img)\n",
        "    # output = output.view(1, 10)\n",
        "    # # print(output)\n",
        "   \n",
        "    # loss = loss_fun(output, target)\n",
        "\n",
        "    # loss_arr.append(loss.detach().numpy()) # 1.\n",
        "    loss_arr.append(loss.data.item()) # 2.\n",
        "\n",
        "    loss.backward()\n",
        "    optimizer.step()\n",
        "\n",
        "    # check grad\n",
        "    for param in model.parameters():\n",
        "      g = param.grad.cpu().detach().numpy()\n",
        "      grad_arr.append(np.linalg.norm(g))\n",
        "      break\n",
        "\n",
        "    #  check weights\n",
        "    # for param in model.parameters():\n",
        "    #   w = param.cpu().detach().numpy()\n",
        "    #   counts, bins = np.histogram(w)\n",
        "    #   plt.hist(bins[:-1], bins, weights=counts)\n",
        "    #   plt.show()\n",
        "    #   break\n",
        "\n",
        "    #   print(param.requires_grad)\n",
        "    if i == n_step: break\n",
        "plt.plot(grad_arr)\n",
        "plt.show()"
      ],
      "execution_count": 0,
      "outputs": [
        {
          "output_type": "stream",
          "text": [
            "/usr/local/lib/python3.6/dist-packages/ipykernel_launcher.py:46: UserWarning: Implicit dimension choice for softmax has been deprecated. Change the call to include dim=X as an argument.\n"
          ],
          "name": "stderr"
        },
        {
          "output_type": "display_data",
          "data": {
            "image/png": "[encoded data removed]",
            "text/plain": [
              "<Figure size 432x288 with 1 Axes>"
            ]
          },
          "metadata": {
            "tags": []
          }
        }
      ]
    },
    {
      "cell_type": "markdown",
      "metadata": {
        "id": "M-4HF9W6bfkg",
        "colab_type": "text"
      },
      "source": [
        "draw graphs"
      ]
    },
    {
      "cell_type": "code",
      "metadata": {
        "id": "kp59tWKHbhEl",
        "colab_type": "code",
        "outputId": "ceeb69a0-50c4-4968-dc42-47452ef2d962",
        "colab": {
          "base_uri": "https://localhost:8080/",
          "height": 282
        }
      },
      "source": [
        "plt.plot(loss_arr)"
      ],
      "execution_count": 0,
      "outputs": [
        {
          "output_type": "execute_result",
          "data": {
            "text/plain": [
              "[<matplotlib.lines.Line2D at 0x7f5373658160>]"
            ]
          },
          "metadata": {
            "tags": []
          },
          "execution_count": 9
        },
        {
          "output_type": "display_data",
          "data": {
            "image/png": "[encoded data removed]",
            "text/plain": [
              "<Figure size 432x288 with 1 Axes>"
            ]
          },
          "metadata": {
            "tags": []
          }
        }
      ]
    },
    {
      "cell_type": "markdown",
      "metadata": {
        "id": "pchEk5561gVj",
        "colab_type": "text"
      },
      "source": [
        "test prediction"
      ]
    },
    {
      "cell_type": "code",
      "metadata": {
        "id": "VSfErG9m1hhk",
        "colab_type": "code",
        "outputId": "09b17a34-5d84-4bcc-e751-b44fd4a7b3bf",
        "colab": {
          "base_uri": "https://localhost:8080/",
          "height": 352
        }
      },
      "source": [
        "labels = [i for i in range(10)]\n",
        "print(labels)\n",
        "\n",
        "i = np.random.randint(1000)\n",
        "print('idx = ', i)\n",
        "pimg, _ = mnist.__getitem__(i)\n",
        "plt.imshow(pimg)\n",
        "plt.show()\n",
        "pimg = np.array(pimg)\n",
        "rgbimg = cv2.cvtColor(pimg, cv2.COLOR_GRAY2RGB)\n",
        "rgbimg = Image.fromarray(np.uint8(rgbimg))\n",
        "\n",
        "# # gpu_img = torch.tensor(img.flatten().astype('float32'))\n",
        "# # gpu_img = gpu_img.to(device)\n",
        "# gpu_img = transforms(rgbimg)\n",
        "gpu_img = img_proc(rgbimg)\n",
        "gpu_img = gpu_img.to(device)\n",
        "gpu_img = torch.reshape(gpu_img, (1,2352))\n",
        "# target = torch.tensor(np.array([target]).astype('int64'))\n",
        "# target = target.to(device) \n",
        "\n",
        "output = model(gpu_img)\n",
        "output = output.view(1, 10)\n",
        "print(labels[output.argmax()])\n",
        "\n"
      ],
      "execution_count": 0,
      "outputs": [
        {
          "output_type": "stream",
          "text": [
            "[0, 1, 2, 3, 4, 5, 6, 7, 8, 9]\n",
            "idx =  482\n"
          ],
          "name": "stdout"
        },
        {
          "output_type": "display_data",
          "data": {
            "image/png": "[encoded data removed]",
            "text/plain": [
              "<Figure size 432x288 with 1 Axes>"
            ]
          },
          "metadata": {
            "tags": []
          }
        },
        {
          "output_type": "stream",
          "text": [
            "6\n"
          ],
          "name": "stdout"
        },
        {
          "output_type": "stream",
          "text": [
            "/usr/local/lib/python3.6/dist-packages/ipykernel_launcher.py:46: UserWarning: Implicit dimension choice for softmax has been deprecated. Change the call to include dim=X as an argument.\n"
          ],
          "name": "stderr"
        }
      ]
    },
    {
      "cell_type": "markdown",
      "metadata": {
        "id": "PEV1zG7l3vrA",
        "colab_type": "text"
      },
      "source": [
        "inspect backward "
      ]
    },
    {
      "cell_type": "code",
      "metadata": {
        "id": "PsJmtx883uQr",
        "colab_type": "code",
        "colab": {}
      },
      "source": [
        "# loss.backward()\n",
        "\n",
        "# for name, param in model.named_parameters():\n",
        "#   print(name, ' --> ', param) \n",
        "#   print(param.grad)"
      ],
      "execution_count": 0,
      "outputs": []
    },
    {
      "cell_type": "markdown",
      "metadata": {
        "id": "mAUVvULdTNCy",
        "colab_type": "text"
      },
      "source": [
        "one update step\n"
      ]
    },
    {
      "cell_type": "code",
      "metadata": {
        "id": "7aZ6RvWXRq7q",
        "colab_type": "code",
        "colab": {}
      },
      "source": [
        "# \n",
        "# input = torch.randn(3, 5, requires_grad=True)\n",
        "# print(input)\n",
        "# print(input.shape)\n",
        "# target = torch.randint(5, (3,), dtype=torch.int64)\n",
        "# print(target)\n",
        "# loss = nn.functional.cross_entropy(input, target)\n",
        "# print(loss)"
      ],
      "execution_count": 0,
      "outputs": []
    }
  ]
}