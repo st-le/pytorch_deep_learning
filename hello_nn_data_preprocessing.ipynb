{
  "nbformat": 4,
  "nbformat_minor": 0,
  "metadata": {
    "colab": {
      "name": "hello_nn_data_preprocessing.ipynb",
      "provenance": [],
      "collapsed_sections": [],
      "authorship_tag": "ABX9TyOTIRHgnYzsIf8OHOs0+gzr",
      "include_colab_link": true
    },
    "kernelspec": {
      "name": "python3",
      "display_name": "Python 3"
    },
    "accelerator": "GPU"
  },
  "cells": [
    {
      "cell_type": "markdown",
      "metadata": {
        "id": "view-in-github",
        "colab_type": "text"
      },
      "source": [
        "<a href=\"https://colab.research.google.com/github/st-le/pytorch_deep_learning/blob/master/hello_nn_data_preprocessing.ipynb\" target=\"_parent\"><img src=\"https://colab.research.google.com/assets/colab-badge.svg\" alt=\"Open In Colab\"/></a>"
      ]
    },
    {
      "cell_type": "markdown",
      "metadata": {
        "id": "M4JJWjrgsunv",
        "colab_type": "text"
      },
      "source": [
        "**TODO**: document the vanishing gradient and the fix. Hint: revert this"
      ]
    },
    {
      "cell_type": "markdown",
      "metadata": {
        "id": "ZsWMb4n0qJkE",
        "colab_type": "text"
      },
      "source": [
        "some imports\n"
      ]
    },
    {
      "cell_type": "code",
      "metadata": {
        "id": "5pD1UQSYU5zx",
        "colab_type": "code",
        "colab": {}
      },
      "source": [
        "import torch.optim as optim \n",
        "import numpy as np\n",
        "import matplotlib.pyplot as plt\n",
        "from torchvision import transforms\n",
        "import cv2"
      ],
      "execution_count": 0,
      "outputs": []
    },
    {
      "cell_type": "markdown",
      "metadata": {
        "id": "66DXlyo7RZlP",
        "colab_type": "text"
      },
      "source": [
        "someone mnist model"
      ]
    },
    {
      "cell_type": "code",
      "metadata": {
        "id": "qMpK7heLRbjU",
        "colab_type": "code",
        "colab": {}
      },
      "source": [
        "import torch\n",
        "import torch.nn as nn\n",
        "import torch.nn.functional as F\n",
        "import torch.optim as optim\n",
        "\n",
        "class Net(nn.Module):\n",
        "    def __init__(self):\n",
        "        super(Net, self).__init__()\n",
        "        self.conv1 = nn.Conv2d(1, 32, 3, 1)\n",
        "        self.conv2 = nn.Conv2d(32, 64, 3, 1)\n",
        "        self.dropout1 = nn.Dropout2d(0.25)\n",
        "        self.dropout2 = nn.Dropout2d(0.5)\n",
        "        self.fc1 = nn.Linear(9216, 128)\n",
        "        self.fc2 = nn.Linear(128, 10)\n",
        "\n",
        "    def forward(self, x):\n",
        "        x = self.conv1(x)\n",
        "        x = F.relu(x)\n",
        "        x = self.conv2(x)\n",
        "        x = F.max_pool2d(x, 2)\n",
        "        x = self.dropout1(x)\n",
        "        x = torch.flatten(x, 1)\n",
        "        x = self.fc1(x)\n",
        "        x = F.relu(x)\n",
        "        x = self.dropout2(x)\n",
        "        x = self.fc2(x)\n",
        "        output = F.log_softmax(x, dim=1)\n",
        "        return output\n",
        "\n",
        "class dumbNet(nn.Module):\n",
        "  def __init__(self):\n",
        "    super(dumbNet, self).__init__()\n",
        "    # self.ln1 = nn.Linear(784,128)\n",
        "    # self.ln2 = nn.Linear(128,10)\n",
        "    self.ln1 = nn.Linear(2352, 784)\n",
        "    self.ln2 = nn.Linear(784,10)\n",
        "\n",
        "  def forward(self,x):\n",
        "    x = self.ln1(x)\n",
        "    \n",
        "    x = F.relu(x)    \n",
        "    \n",
        "    x = self.ln2(x)\n",
        "    \n",
        "    x = F.relu(x)\n",
        "    x = F.softmax(x)\n",
        "    return x\n",
        "\n",
        "  def relu2_out(self, x):\n",
        "    x = self.ln1(x)\n",
        "    x = F.relu(x)\n",
        "    x = self.ln2(x)\n",
        "    x = F.relu(x)\n",
        "    return x"
      ],
      "execution_count": 0,
      "outputs": []
    },
    {
      "cell_type": "code",
      "metadata": {
        "id": "tL5TkgVKdDEu",
        "colab_type": "code",
        "colab": {}
      },
      "source": [
        ""
      ],
      "execution_count": 0,
      "outputs": []
    },
    {
      "cell_type": "markdown",
      "metadata": {
        "id": "vlQKR0icUzsV",
        "colab_type": "text"
      },
      "source": [
        "get some data"
      ]
    },
    {
      "cell_type": "code",
      "metadata": {
        "id": "lqjtNMnDapMN",
        "colab_type": "code",
        "outputId": "bd4aa06c-0605-4dc2-b154-3198f1e0f03d",
        "colab": {
          "base_uri": "https://localhost:8080/",
          "height": 382
        }
      },
      "source": [
        "from __future__ import print_function\n",
        "import torch\n",
        "import torch.nn as nn\n",
        "\n",
        "from torchvision import datasets\n",
        "# import datasets.MNIST as MNIST\n",
        "\n",
        "\n",
        "from PIL import Image\n",
        "\n",
        "# x = torch.rand(10)\n",
        "# print(x)\n",
        "mnist = datasets.MNIST('../sdata', download=True)\n",
        "# mnist = datasets.MNIST('../sdata')\n",
        "item = mnist.__getitem__(0) \n",
        "img = np.array(item[0])\n",
        "y = item[1]\n",
        "print(img.shape)\n",
        "print(img.flatten().squeeze().shape)\n",
        "print(type(img))\n",
        "print('gt is: ', y)\n",
        "print('gt type is: ', type(y))\n",
        "\n",
        "inp = img.flatten().squeeze()\n",
        "plt.imshow(img)\n",
        "plt.show()\n",
        "\n",
        "print(img.shape)\n",
        "print(img.dtype)"
      ],
      "execution_count": 3,
      "outputs": [
        {
          "output_type": "stream",
          "text": [
            "(28, 28)\n",
            "(784,)\n",
            "<class 'numpy.ndarray'>\n",
            "gt is:  5\n",
            "gt type is:  <class 'int'>\n"
          ],
          "name": "stdout"
        },
        {
          "output_type": "display_data",
          "data": {
            "image/png": "[encoded data removed]",
            "text/plain": [
              "<Figure size 432x288 with 1 Axes>"
            ]
          },
          "metadata": {
            "tags": []
          }
        },
        {
          "output_type": "stream",
          "text": [
            "(28, 28)\n",
            "uint8\n"
          ],
          "name": "stdout"
        }
      ]
    },
    {
      "cell_type": "markdown",
      "metadata": {
        "id": "oB0GgFlT-Dy5",
        "colab_type": "text"
      },
      "source": [
        "create the data processing"
      ]
    },
    {
      "cell_type": "code",
      "metadata": {
        "id": "Dz7z7NuaLAb2",
        "colab_type": "code",
        "colab": {}
      },
      "source": [
        "# print(item[0].size)\n",
        "# rgbimg = Image.new(\"RGBA\", item[0].size)\n",
        "# print(rgbimg.size)\n",
        "# rgbimg.paste(img)\n"
      ],
      "execution_count": 0,
      "outputs": []
    },
    {
      "cell_type": "code",
      "metadata": {
        "id": "2KhnOkfM-G1w",
        "colab_type": "code",
        "outputId": "1bb53244-e906-4bb5-a0e3-166af83f3a2f",
        "colab": {
          "base_uri": "https://localhost:8080/",
          "height": 84
        }
      },
      "source": [
        "# rgbimg = Image.new(\"RGB\", item[0].size)\n",
        "# rgbimg.paste(img)\n",
        "rgbimg = item[0]\n",
        "rgbimg = np.array(rgbimg)\n",
        "print(rgbimg.shape)\n",
        "rgbimg = cv2.cvtColor(rgbimg, cv2.COLOR_GRAY2RGB)\n",
        "rgbimg = Image.fromarray(np.uint8(rgbimg))\n",
        "\n",
        "img_proc = transforms.Compose([\n",
        "                                #  transforms.Resize(64),\n",
        "                                 transforms.ToTensor(),\n",
        "                                # transforms.Normalize(mean=[0.485,0.456], \n",
        "                                #                     std=[0.229,0.224])\n",
        "                                #  transforms.Normalize(mean=[0.485,0.456,0.406], \n",
        "                                #                       std=[0.229,0.224,0.225])\n",
        "])\n",
        "\n",
        "print(item[0].size)\n",
        "# im = img_proc(item[0])\n",
        "im = img_proc(rgbimg)\n",
        "print(np.array(im).shape)\n",
        "print(np.array(rgbimg).shape)\n"
      ],
      "execution_count": 4,
      "outputs": [
        {
          "output_type": "stream",
          "text": [
            "(28, 28)\n",
            "(28, 28)\n",
            "(3, 28, 28)\n",
            "(28, 28, 3)\n"
          ],
          "name": "stdout"
        }
      ]
    },
    {
      "cell_type": "markdown",
      "metadata": {
        "id": "-Is1sMffqFWw",
        "colab_type": "text"
      },
      "source": [
        "create the model\n"
      ]
    },
    {
      "cell_type": "code",
      "metadata": {
        "id": "Qpyvb4aXqG9v",
        "colab_type": "code",
        "colab": {}
      },
      "source": [
        "\n",
        "# use a dumb net\n",
        "# model = nn.Sequential(\n",
        "#           nn.Linear(784,128),\n",
        "#           nn.ReLU(),\n",
        "#           nn.Linear(128,10),\n",
        "#           nn.ReLU(),\n",
        "#           nn.Softmax()\n",
        "#         )\n",
        "model = dumbNet()\n",
        "\n",
        "\n",
        "# use someone mnist net \n",
        "# model = Net()\n",
        "\n",
        "optimizer = optim.SGD(model.parameters(), lr=0.001)\n",
        "loss_fun = nn.CrossEntropyLoss()\n"
      ],
      "execution_count": 0,
      "outputs": []
    },
    {
      "cell_type": "markdown",
      "metadata": {
        "id": "8HYNJ3c1qN1i",
        "colab_type": "text"
      },
      "source": [
        "inspect the model i.e. the init weights by histograms"
      ]
    },
    {
      "cell_type": "code",
      "metadata": {
        "id": "TgVfdwPjqPgf",
        "colab_type": "code",
        "outputId": "016b8a4a-8901-4b91-9960-35ae6201da7d",
        "colab": {
          "base_uri": "https://localhost:8080/",
          "height": 1000
        }
      },
      "source": [
        "# for name, param in model.named_parameters():\n",
        "#   print(name, ' --> ', param) \n",
        "for param in model.parameters():\n",
        "  print(param)\n",
        "  w = param.cpu().detach().numpy()\n",
        "  counts, bins = np.histogram(w)\n",
        "  _ = plt.hist(bins[:-1], bins, weights=counts)\n",
        "  plt.show()"
      ],
      "execution_count": 6,
      "outputs": [
        {
          "output_type": "stream",
          "text": [
            "Parameter containing:\n",
            "tensor([[-0.0004,  0.0078,  0.0170,  ...,  0.0091,  0.0048,  0.0177],\n",
            "        [ 0.0159, -0.0052, -0.0081,  ...,  0.0093, -0.0045, -0.0094],\n",
            "        [ 0.0045, -0.0021, -0.0173,  ..., -0.0146,  0.0137, -0.0025],\n",
            "        ...,\n",
            "        [-0.0192,  0.0122, -0.0182,  ...,  0.0083,  0.0169,  0.0064],\n",
            "        [-0.0038,  0.0127, -0.0191,  ...,  0.0055, -0.0041, -0.0198],\n",
            "        [ 0.0145, -0.0193,  0.0124,  ...,  0.0193, -0.0022,  0.0046]],\n",
            "       requires_grad=True)\n"
          ],
          "name": "stdout"
        },
        {
          "output_type": "display_data",
          "data": {
            "image/png": "[encoded data removed]",
            "text/plain": [
              "<Figure size 432x288 with 1 Axes>"
            ]
          },
          "metadata": {
            "tags": []
          }
        },
        {
          "output_type": "stream",
          "text": [
            "Parameter containing:\n",
            "tensor([ 8.3248e-03,  1.7331e-02,  2.9815e-03,  1.3010e-02,  1.8896e-02,\n",
            "        -1.2434e-02, -4.2108e-03, -3.2113e-04, -1.3072e-02, -1.2603e-03,\n",
            "         9.9440e-03,  3.7108e-03, -4.1024e-03,  2.6812e-03,  1.2680e-02,\n",
            "         1.2590e-02,  2.0349e-02, -3.7728e-03,  1.4029e-02,  8.4541e-03,\n",
            "         5.4143e-03,  1.7809e-02,  1.2655e-02,  2.3809e-03,  1.3161e-03,\n",
            "         1.6886e-02, -2.6629e-03,  6.0364e-03, -8.2944e-03, -7.7959e-03,\n",
            "         1.3369e-02,  2.0379e-02,  2.0046e-02,  1.6418e-02, -1.3582e-02,\n",
            "        -1.0744e-03, -2.0084e-02,  1.8686e-04, -6.9653e-03, -1.1771e-02,\n",
            "         2.9576e-03,  1.2149e-04, -6.8842e-03,  1.4252e-02,  2.0139e-02,\n",
            "         1.8191e-02,  6.1266e-03,  5.4529e-03,  1.1032e-03,  1.2134e-02,\n",
            "        -1.5289e-02,  8.2353e-03, -1.4611e-02,  2.5219e-03,  7.5607e-03,\n",
            "         7.4189e-03,  1.3973e-03, -2.1825e-03,  8.0664e-04, -5.5027e-03,\n",
            "        -1.7736e-02,  5.1378e-03, -1.7312e-02, -1.8913e-02,  9.4865e-03,\n",
            "        -1.4152e-02, -9.2622e-03, -7.4128e-03,  1.7206e-02, -2.1592e-03,\n",
            "        -1.3277e-02, -1.8196e-02,  1.1534e-02,  1.8787e-02,  1.2416e-02,\n",
            "         7.8080e-03, -1.2208e-02,  3.5566e-04, -1.0316e-02, -4.9185e-03,\n",
            "        -1.9887e-02,  1.5084e-02, -9.0353e-03, -1.3489e-02,  2.0511e-03,\n",
            "        -1.5353e-02,  2.2753e-03, -2.3640e-04, -1.4003e-02,  1.9269e-02,\n",
            "         2.0138e-02,  1.4327e-02,  2.7557e-03,  1.6794e-02,  1.5195e-02,\n",
            "        -1.4247e-02,  3.2037e-04, -4.9627e-03, -5.9302e-03,  6.0908e-03,\n",
            "        -4.8445e-03,  1.9536e-03,  1.5730e-02,  1.2935e-03,  1.4900e-02,\n",
            "         1.0632e-02,  1.2810e-02, -3.9392e-03, -2.0369e-02, -8.5121e-03,\n",
            "         1.8151e-02,  1.1329e-02, -3.9606e-03, -9.1443e-03,  1.2398e-02,\n",
            "        -8.7406e-03,  2.2590e-03,  8.2022e-03,  1.7687e-02,  5.7076e-03,\n",
            "        -1.7130e-02, -7.0029e-03, -2.5653e-03,  3.0736e-03, -6.9135e-03,\n",
            "         1.4726e-02, -9.8717e-04, -1.7900e-02, -4.4558e-03,  1.1918e-02,\n",
            "        -7.6157e-03,  5.0428e-03,  1.3995e-02, -9.7664e-03, -1.3835e-03,\n",
            "         6.0493e-03,  7.5810e-03,  4.6680e-03, -1.2548e-02,  8.6590e-03,\n",
            "        -6.5240e-03, -1.0651e-02, -1.1259e-02, -2.0043e-02, -6.4695e-03,\n",
            "        -1.3279e-02, -5.3524e-03,  9.9153e-03, -1.3394e-02, -3.1168e-03,\n",
            "         1.0275e-02, -1.3053e-02, -5.6425e-03, -1.6572e-02,  1.3946e-02,\n",
            "        -3.8309e-03, -6.7902e-03, -1.6042e-03, -2.5674e-03, -2.2928e-04,\n",
            "        -1.7299e-02, -6.2475e-03,  1.2738e-03,  1.8839e-02,  1.6853e-02,\n",
            "         1.2158e-02, -5.9869e-03,  2.7978e-03,  1.8246e-02, -1.7476e-03,\n",
            "        -1.4788e-02, -1.0831e-02,  1.8725e-02, -1.2556e-02, -8.8297e-03,\n",
            "        -1.2166e-02,  1.7339e-02,  1.2709e-02, -4.4688e-03, -1.5053e-02,\n",
            "        -7.9680e-04, -1.6465e-02,  6.8203e-03, -4.4095e-03,  3.2757e-03,\n",
            "         1.5815e-02, -8.1660e-03, -5.9425e-03,  4.6859e-03,  9.4000e-03,\n",
            "        -4.4593e-03, -1.6735e-02,  3.9033e-04, -1.6977e-02, -1.3380e-02,\n",
            "        -1.7301e-02, -1.6542e-02,  1.1696e-02, -1.4270e-02, -6.3974e-03,\n",
            "         4.8935e-03,  1.3300e-02,  3.3112e-03,  9.3901e-03, -1.4077e-02,\n",
            "        -6.2726e-03, -3.0415e-03,  1.9445e-02, -5.5926e-04,  1.7625e-02,\n",
            "        -6.7235e-03,  7.1503e-03, -1.0702e-02,  2.6695e-03, -5.7097e-03,\n",
            "         3.7737e-03,  1.6075e-02, -1.5040e-02,  7.7200e-03, -8.4006e-03,\n",
            "         6.6179e-03,  1.4931e-02, -1.9312e-03,  1.4265e-02, -1.5346e-02,\n",
            "         1.2535e-02,  4.2396e-03, -1.1333e-02,  1.6906e-02,  2.0583e-02,\n",
            "        -1.0162e-02, -1.0121e-02, -1.0098e-02, -1.4655e-03,  1.0312e-02,\n",
            "         1.8478e-02, -7.4199e-03, -6.2726e-03, -1.4786e-02,  9.6287e-03,\n",
            "        -1.6461e-02,  1.3916e-02,  1.3411e-02, -1.8768e-02,  1.3651e-02,\n",
            "        -2.0611e-02, -1.2626e-02, -1.0530e-02,  5.9892e-03, -6.6903e-03,\n",
            "        -1.4269e-02,  1.4962e-02, -1.1716e-02, -6.6052e-03, -1.6379e-02,\n",
            "        -1.0965e-03,  8.7019e-03,  2.0555e-02, -1.9860e-02,  5.2010e-03,\n",
            "         8.8875e-03,  1.2899e-02, -6.6907e-03,  2.4417e-03,  1.8766e-02,\n",
            "        -1.6100e-02,  1.1045e-02, -1.3092e-02, -1.2038e-02,  1.7293e-02,\n",
            "         1.7793e-03,  1.9582e-02, -1.5259e-02,  1.8071e-02,  1.8810e-02,\n",
            "        -8.8433e-03,  1.8879e-02,  6.0949e-03,  1.9299e-02,  4.2862e-03,\n",
            "        -1.3360e-04,  5.1342e-03,  5.1938e-03,  1.6358e-02, -1.8295e-02,\n",
            "         1.0141e-02, -9.2298e-03,  1.0097e-02, -2.0406e-02,  1.5900e-02,\n",
            "        -1.4776e-02, -1.2960e-02,  7.9372e-03, -9.8352e-03,  1.4364e-02,\n",
            "         1.8263e-02, -1.4629e-02, -1.0648e-02,  2.0046e-02, -1.5372e-02,\n",
            "         1.8499e-02,  7.8674e-04, -9.9680e-03,  1.2897e-02, -6.4266e-03,\n",
            "        -1.5577e-03,  1.7749e-02,  2.4941e-03,  7.1926e-03,  1.4736e-02,\n",
            "         5.0697e-03,  1.6399e-02, -5.6727e-03, -4.4953e-03,  9.6600e-03,\n",
            "        -8.8017e-03,  1.1915e-02,  1.6996e-02,  8.3943e-03, -1.8200e-02,\n",
            "        -1.7383e-03,  4.3953e-03, -1.1754e-02,  1.1168e-02, -1.3546e-02,\n",
            "        -9.6257e-04, -1.6077e-02,  1.5053e-02,  7.3325e-04, -1.7942e-02,\n",
            "        -1.0953e-02, -2.3067e-03, -1.1592e-02, -1.1164e-02, -5.3506e-03,\n",
            "         1.9438e-03, -9.2157e-03,  7.0728e-03,  1.9619e-02, -3.5424e-03,\n",
            "         1.2141e-02, -2.4188e-03,  1.6907e-02,  1.6945e-02,  1.8217e-02,\n",
            "         1.3715e-02, -1.5101e-03,  1.9720e-02,  1.4038e-02,  1.9022e-02,\n",
            "        -1.1702e-02, -1.0566e-02, -7.2012e-03,  2.0334e-04,  1.5777e-02,\n",
            "         7.3578e-03,  1.4370e-02, -7.7770e-03,  1.3196e-02,  2.0448e-02,\n",
            "        -8.9422e-03, -1.8375e-02,  1.8341e-02,  8.4375e-03, -8.4457e-03,\n",
            "        -1.6874e-04,  7.5095e-03,  6.2463e-03, -1.0878e-02,  1.7228e-02,\n",
            "        -1.9862e-02, -1.1184e-02,  8.0357e-03, -1.8168e-02,  1.5181e-02,\n",
            "         8.0620e-03, -1.6548e-02,  1.6595e-02, -2.0331e-03,  1.7130e-02,\n",
            "         4.9324e-03,  1.0224e-02, -3.5786e-03,  9.4888e-03, -2.4769e-03,\n",
            "         1.2127e-02, -1.3815e-02,  2.2783e-03,  5.4576e-07, -1.1898e-02,\n",
            "         5.8541e-03,  2.0441e-02, -1.5398e-02, -4.9284e-03, -7.9179e-03,\n",
            "        -1.2039e-02,  1.1101e-02, -2.9300e-04, -1.8275e-02, -6.3269e-03,\n",
            "        -4.8424e-03, -2.0277e-02, -4.1295e-03, -1.5123e-02,  1.7357e-02,\n",
            "        -7.6290e-03,  1.5759e-03, -6.2170e-03,  7.5941e-03, -6.4114e-03,\n",
            "         1.0236e-02,  1.2113e-02, -4.8972e-03, -1.6145e-02,  1.1133e-02,\n",
            "         1.3461e-02,  1.1030e-02,  9.1379e-03, -2.4083e-03, -5.5517e-03,\n",
            "        -7.5217e-03,  1.2490e-02, -1.7841e-02,  8.4007e-03, -1.0804e-02,\n",
            "        -1.6990e-02, -6.1379e-03, -9.8431e-03, -4.1365e-03, -1.5728e-02,\n",
            "         1.5569e-02,  6.0849e-03,  6.2190e-03, -1.7824e-02, -1.8888e-03,\n",
            "         2.0055e-02, -2.1946e-03,  2.0390e-02, -1.5175e-02,  6.0834e-03,\n",
            "         7.0034e-03,  2.0025e-02, -3.0893e-03, -7.5899e-04,  1.2992e-02,\n",
            "         1.1700e-03,  1.5214e-02, -1.5313e-03,  2.0305e-02,  1.6253e-02,\n",
            "        -6.1213e-03,  1.5149e-02,  5.4744e-03,  4.6287e-03, -1.0110e-02,\n",
            "        -9.4391e-03,  1.0570e-02, -1.3924e-02, -1.2582e-02,  5.7214e-03,\n",
            "        -1.2469e-02,  2.0033e-02,  4.8640e-03,  8.4549e-03,  1.9195e-02,\n",
            "        -1.9357e-03, -1.2563e-02,  2.0327e-02, -1.6310e-02,  9.8939e-03,\n",
            "        -6.1375e-03,  1.5399e-02,  7.1202e-03,  5.4755e-03, -1.5867e-02,\n",
            "        -1.5630e-02,  5.8913e-03, -8.2547e-03,  3.7164e-03,  1.2148e-02,\n",
            "         1.9713e-02, -7.7820e-03,  8.7703e-03, -1.9071e-02,  6.0753e-03,\n",
            "        -1.9961e-03,  5.8391e-03,  1.9717e-02, -3.0195e-03, -1.9438e-02,\n",
            "         1.3354e-02, -1.8607e-02,  1.1442e-02, -1.6213e-02, -1.6218e-02,\n",
            "        -1.5731e-02, -2.0007e-02, -4.4192e-03,  1.3242e-03,  5.7414e-03,\n",
            "         1.5225e-02, -7.7616e-03,  2.7781e-03, -8.4133e-03,  2.7870e-03,\n",
            "         1.0949e-02, -9.1208e-03,  1.3062e-02,  1.2847e-02,  1.2244e-02,\n",
            "        -8.3644e-03,  1.2134e-02,  4.9518e-03, -1.4410e-02, -1.2447e-02,\n",
            "        -1.2024e-02,  1.9835e-02, -7.5685e-03,  6.6224e-03, -5.8603e-03,\n",
            "         1.2525e-02,  6.9079e-03,  4.8789e-03,  9.0046e-03, -1.3104e-02,\n",
            "         2.0180e-02,  4.5397e-03,  1.1894e-02,  4.0916e-03,  1.9658e-02,\n",
            "         1.2982e-02,  1.9168e-03, -1.8694e-02,  3.0027e-03, -1.9282e-02,\n",
            "         1.9445e-02,  1.1472e-02,  2.0296e-02,  1.5704e-02,  1.2414e-02,\n",
            "        -7.8120e-03,  9.7224e-03, -2.9278e-03,  1.0026e-02,  8.6897e-03,\n",
            "         1.3179e-02,  2.4223e-03, -1.7411e-02,  1.7321e-02,  1.1267e-02,\n",
            "        -1.1166e-02,  1.2597e-02,  1.5594e-02,  1.5860e-02, -7.0001e-03,\n",
            "         7.4786e-03,  2.0303e-04,  8.4498e-04,  2.0329e-03,  8.5729e-03,\n",
            "         1.5900e-02,  2.2973e-03, -1.6162e-02, -1.0402e-02,  1.0886e-02,\n",
            "         1.8008e-02, -3.0551e-03,  2.7612e-03,  4.7120e-03, -1.4472e-02,\n",
            "         1.3152e-02, -1.5120e-02,  1.0810e-02,  1.8355e-02, -1.4054e-02,\n",
            "         7.8091e-03, -1.6557e-02,  5.5367e-03,  1.2403e-02, -3.2495e-03,\n",
            "         1.5767e-02, -3.3398e-04,  4.8696e-03, -5.1964e-03, -4.5018e-03,\n",
            "        -8.4258e-03,  1.4564e-02, -4.5463e-04,  3.8134e-03, -1.1846e-02,\n",
            "        -4.2254e-04, -1.5292e-02, -1.3015e-02,  4.9422e-04,  1.8919e-03,\n",
            "         1.7786e-02, -1.9161e-02, -4.1861e-03, -7.4475e-03, -1.9359e-02,\n",
            "        -4.7635e-03,  1.7046e-02, -6.6264e-03, -1.3740e-02, -9.2712e-03,\n",
            "        -1.9884e-02, -1.4384e-02, -1.9488e-02,  1.7059e-02,  1.8746e-02,\n",
            "        -7.3151e-03,  1.9702e-02, -8.9825e-03, -9.8267e-03, -9.8714e-03,\n",
            "        -1.4146e-02, -6.5571e-03, -5.6524e-03, -7.1672e-04,  1.0608e-02,\n",
            "         7.9731e-03,  3.4548e-03, -8.2945e-03, -1.4021e-02,  2.4190e-03,\n",
            "        -1.8495e-03,  4.4142e-03,  1.7332e-02, -9.3251e-03, -1.1694e-02,\n",
            "         1.6960e-02,  1.5043e-02,  1.5918e-02, -5.4567e-03, -1.5520e-02,\n",
            "        -8.1887e-03, -4.2285e-03,  1.0640e-02, -2.0500e-02,  7.3885e-03,\n",
            "        -1.3412e-02, -2.4034e-03,  1.6753e-02,  7.2271e-04, -1.3030e-02,\n",
            "         3.3880e-03, -1.6206e-02,  7.2409e-03,  1.6122e-02, -5.4013e-03,\n",
            "        -8.2747e-03, -1.9138e-02,  1.7998e-02, -2.8380e-04,  6.0649e-03,\n",
            "        -6.0071e-03, -1.9175e-02,  1.8662e-02,  1.1755e-02, -6.2009e-03,\n",
            "        -7.0051e-03,  7.2572e-03,  1.1649e-02, -6.6671e-03,  1.0734e-02,\n",
            "        -1.5095e-02, -8.1228e-03,  1.4256e-02, -1.9495e-02,  1.9098e-02,\n",
            "        -4.7805e-03,  1.5238e-03,  8.6620e-03,  4.4660e-04, -7.9448e-03,\n",
            "         9.5608e-03, -1.3127e-03, -5.8420e-03, -6.1119e-03,  1.2533e-02,\n",
            "         5.7006e-03,  1.9155e-03, -1.8496e-02, -1.0187e-02,  1.8574e-03,\n",
            "        -1.6300e-02,  1.3833e-02, -7.0254e-03,  1.7471e-02,  1.9417e-02,\n",
            "        -1.9512e-02, -2.0250e-02,  6.5652e-03, -9.9813e-03,  6.4925e-03,\n",
            "        -1.4228e-02, -1.0605e-02, -8.7362e-03, -5.3401e-03, -7.2180e-03,\n",
            "         9.2429e-03, -1.8714e-02,  9.9138e-04,  1.7443e-02, -1.4647e-04,\n",
            "        -1.3746e-02,  8.9212e-03,  1.1250e-02, -1.2203e-02,  1.2531e-02,\n",
            "        -1.1923e-02, -3.5930e-03, -9.3281e-03,  8.5249e-03, -1.7677e-02,\n",
            "        -4.1326e-03,  2.3411e-03, -4.5691e-03,  8.7797e-03, -2.0242e-02,\n",
            "         3.2789e-03,  4.4183e-03,  2.1358e-03,  1.2171e-02, -2.0041e-02,\n",
            "         1.3452e-04,  1.9661e-02,  1.8375e-02,  1.3340e-02,  1.8020e-02,\n",
            "        -1.5828e-02,  3.7849e-03,  8.2630e-03, -1.8176e-02,  1.9226e-02,\n",
            "         2.0326e-03, -1.6099e-02, -1.4466e-02,  7.8015e-03,  7.8535e-03,\n",
            "         1.2475e-02,  2.6843e-03, -2.5959e-03,  5.7191e-03, -1.7991e-02,\n",
            "        -2.2998e-03,  5.7962e-05,  9.1405e-03, -1.0363e-02, -1.8678e-02,\n",
            "        -4.3072e-03,  9.1554e-03,  1.8408e-02,  7.5050e-03,  1.7561e-02,\n",
            "         1.5477e-02,  1.8253e-02,  1.4130e-02, -1.8380e-02, -4.2502e-03,\n",
            "        -1.6107e-02, -1.4499e-02, -1.6910e-02,  7.7264e-03,  8.3907e-04,\n",
            "         2.0403e-02, -6.6736e-03,  1.2815e-02,  8.1064e-03,  1.8841e-02,\n",
            "        -2.9287e-03,  8.9987e-04,  1.3591e-02,  2.7603e-03,  8.1073e-03,\n",
            "        -7.0533e-04, -2.0545e-02,  6.8389e-03, -3.9642e-03,  1.5013e-02,\n",
            "         6.5010e-03, -1.4165e-02, -1.2571e-02,  1.0259e-02],\n",
            "       requires_grad=True)\n"
          ],
          "name": "stdout"
        },
        {
          "output_type": "display_data",
          "data": {
            "image/png": "[encoded data removed]",
            "text/plain": [
              "<Figure size 432x288 with 1 Axes>"
            ]
          },
          "metadata": {
            "tags": []
          }
        },
        {
          "output_type": "stream",
          "text": [
            "Parameter containing:\n",
            "tensor([[-0.0102,  0.0212, -0.0087,  ...,  0.0219,  0.0299, -0.0087],\n",
            "        [ 0.0066,  0.0100, -0.0200,  ...,  0.0035, -0.0325,  0.0170],\n",
            "        [-0.0012, -0.0294, -0.0251,  ..., -0.0323, -0.0217, -0.0323],\n",
            "        ...,\n",
            "        [-0.0349,  0.0070,  0.0098,  ..., -0.0209,  0.0048, -0.0070],\n",
            "        [ 0.0270, -0.0051, -0.0104,  ..., -0.0197,  0.0168,  0.0293],\n",
            "        [-0.0084,  0.0071, -0.0297,  ...,  0.0140, -0.0216, -0.0018]],\n",
            "       requires_grad=True)\n"
          ],
          "name": "stdout"
        },
        {
          "output_type": "display_data",
          "data": {
            "image/png": "[encoded data removed]",
            "text/plain": [
              "<Figure size 432x288 with 1 Axes>"
            ]
          },
          "metadata": {
            "tags": []
          }
        },
        {
          "output_type": "stream",
          "text": [
            "Parameter containing:\n",
            "tensor([-0.0230,  0.0060, -0.0223,  0.0207,  0.0055, -0.0135,  0.0004, -0.0314,\n",
            "         0.0036,  0.0246], requires_grad=True)\n"
          ],
          "name": "stdout"
        },
        {
          "output_type": "display_data",
          "data": {
            "image/png": "[encoded data removed]",
            "text/plain": [
              "<Figure size 432x288 with 1 Axes>"
            ]
          },
          "metadata": {
            "tags": []
          }
        }
      ]
    },
    {
      "cell_type": "markdown",
      "metadata": {
        "id": "VguzmMRFqWnI",
        "colab_type": "text"
      },
      "source": [
        "run one forward pass\n",
        "\n",
        "**BUG**\n",
        "\n",
        "the bug can be **FOUND** here. High chance it requires normalization of input **values**"
      ]
    },
    {
      "cell_type": "code",
      "metadata": {
        "id": "PRyKzHB1qYfn",
        "colab_type": "code",
        "outputId": "f5bad984-c424-442e-cb49-fc56d82e3035",
        "colab": {
          "base_uri": "https://localhost:8080/",
          "height": 1000
        }
      },
      "source": [
        "if torch.cuda.is_available():\n",
        "  print(\"cuda is available\")\n",
        "  device = torch.device(\"cuda\")\n",
        "else:\n",
        "  print(\"cuda is NOT available\")\n",
        "  device = torch.device(\"cpu\")\n",
        "\n",
        "# device = torch.device(\"cuda\" if use_cuda else \"cpu\")\n",
        "print(device)\n",
        "model.to(device)\n",
        "\n",
        "for i, batch in enumerate(mnist): \n",
        "  pimg, target = batch\n",
        "  # print(target)\n",
        "  # plt.imshow(img)\n",
        "  # plt.show()\n",
        "  # img = np.array(pimg)\n",
        "  pimg = np.array(pimg)\n",
        "  rgbimg = cv2.cvtColor(pimg, cv2.COLOR_GRAY2RGB)\n",
        "  rgbimg = Image.fromarray(np.uint8(rgbimg))\n",
        "\n",
        "  # gpu_img = torch.tensor(img.flatten().astype('float32'))\n",
        "  # gpu_img = gpu_img.to(device)\n",
        "  # gpu_img = transforms(rgbimg)\n",
        "  gpu_img = img_proc(rgbimg)\n",
        "  gpu_img = gpu_img.to(device)\n",
        "  gpu_img = torch.reshape(gpu_img, (1,2352))\n",
        "  target = torch.tensor(np.array([target]).astype('int64'))\n",
        "  target = target.to(device) \n",
        "\n",
        "  output = model(gpu_img)\n",
        "  output = output.view(1, 10)\n",
        "  rl2_o = model.relu2_out(gpu_img)\n",
        "  \n",
        "  loss = loss_fun(output, target)\n",
        "  print('target = ', target)\n",
        "  # print('rl2 out = ', rl2_o)\n",
        "  # print('out=',output)\n",
        "  print('loss=', loss)\n",
        "  print()\n",
        "  if i == 20 : break\n",
        "\n",
        "# data = torch.tensor(img.flatten().astype('float32'))\n",
        "# output = model(data)\n",
        "# output = output.view(1, 10)\n",
        "\n",
        "# print(output)\n",
        "# print(output.shape)\n",
        "# # print(target)\n",
        "\n",
        "# celoss = nn.CrossEntropyLoss()\n",
        "# target = torch.tensor(np.array([y]).astype('int64'))\n",
        "\n",
        "# loss = celoss(output, target)\n",
        "# print(loss)\n",
        "# print(loss.detach().numpy())"
      ],
      "execution_count": 7,
      "outputs": [
        {
          "output_type": "stream",
          "text": [
            "cuda is available\n",
            "cuda\n",
            "target =  tensor([5], device='cuda:0')\n",
            "loss= tensor(2.3034, device='cuda:0', grad_fn=<NllLossBackward>)\n",
            "\n",
            "target =  tensor([0], device='cuda:0')\n",
            "loss= tensor(2.3039, device='cuda:0', grad_fn=<NllLossBackward>)\n",
            "\n",
            "target =  tensor([4], device='cuda:0')\n",
            "loss= tensor(2.3035, device='cuda:0', grad_fn=<NllLossBackward>)\n",
            "\n",
            "target =  tensor([1], device='cuda:0')\n",
            "loss= tensor(2.3061, device='cuda:0', grad_fn=<NllLossBackward>)\n",
            "\n",
            "target =  tensor([9], device='cuda:0')\n",
            "loss= tensor(2.3038, device='cuda:0', grad_fn=<NllLossBackward>)\n",
            "\n",
            "target =  tensor([2], device='cuda:0')\n",
            "loss= tensor(2.3023, device='cuda:0', grad_fn=<NllLossBackward>)\n",
            "\n",
            "target =  tensor([1], device='cuda:0')\n",
            "loss= tensor(2.3046, device='cuda:0', grad_fn=<NllLossBackward>)\n",
            "\n",
            "target =  tensor([3], device='cuda:0')\n",
            "loss= tensor(2.2946, device='cuda:0', grad_fn=<NllLossBackward>)\n",
            "\n",
            "target =  tensor([1], device='cuda:0')\n",
            "loss= tensor(2.3047, device='cuda:0', grad_fn=<NllLossBackward>)\n",
            "\n",
            "target =  tensor([4], device='cuda:0')\n",
            "loss= tensor(2.3040, device='cuda:0', grad_fn=<NllLossBackward>)\n",
            "\n",
            "target =  tensor([3], device='cuda:0')\n",
            "loss= tensor(2.2982, device='cuda:0', grad_fn=<NllLossBackward>)\n",
            "\n",
            "target =  tensor([5], device='cuda:0')\n",
            "loss= tensor(2.3036, device='cuda:0', grad_fn=<NllLossBackward>)\n",
            "\n",
            "target =  tensor([3], device='cuda:0')\n",
            "loss= tensor(2.3029, device='cuda:0', grad_fn=<NllLossBackward>)\n",
            "\n",
            "target =  tensor([6], device='cuda:0')\n",
            "loss= tensor(2.3057, device='cuda:0', grad_fn=<NllLossBackward>)\n",
            "\n",
            "target =  tensor([1], device='cuda:0')\n",
            "loss= tensor(2.3047, device='cuda:0', grad_fn=<NllLossBackward>)\n",
            "\n",
            "target =  tensor([7], device='cuda:0')\n",
            "loss= tensor(2.3030, device='cuda:0', grad_fn=<NllLossBackward>)\n",
            "\n",
            "target =  tensor([2], device='cuda:0')\n",
            "loss= tensor(2.3039, device='cuda:0', grad_fn=<NllLossBackward>)\n",
            "\n",
            "target =  tensor([8], device='cuda:0')\n",
            "loss= tensor(2.3041, device='cuda:0', grad_fn=<NllLossBackward>)\n",
            "\n",
            "target =  tensor([6], device='cuda:0')\n",
            "loss= tensor(2.3033, device='cuda:0', grad_fn=<NllLossBackward>)\n",
            "\n",
            "target =  tensor([9], device='cuda:0')\n",
            "loss= tensor(2.3008, device='cuda:0', grad_fn=<NllLossBackward>)\n",
            "\n",
            "target =  tensor([4], device='cuda:0')\n",
            "loss= tensor(2.3031, device='cuda:0', grad_fn=<NllLossBackward>)\n",
            "\n"
          ],
          "name": "stdout"
        },
        {
          "output_type": "stream",
          "text": [
            "/usr/local/lib/python3.6/dist-packages/ipykernel_launcher.py:46: UserWarning: Implicit dimension choice for softmax has been deprecated. Change the call to include dim=X as an argument.\n"
          ],
          "name": "stderr"
        }
      ]
    },
    {
      "cell_type": "code",
      "metadata": {
        "id": "ltE6__QtTOkl",
        "colab_type": "code",
        "outputId": "199ba346-f1b6-45fb-ea2e-4687989baa4d",
        "colab": {
          "base_uri": "https://localhost:8080/",
          "height": 302
        }
      },
      "source": [
        "\n",
        "n_epoch = 50\n",
        "n_step = 100\n",
        "loss_arr = []\n",
        "grad_arr = []\n",
        "model.train()\n",
        "for epoch in range(n_epoch) :\n",
        "  for i, batch in enumerate(mnist): \n",
        "    optimizer.zero_grad()\n",
        "\n",
        "    pimg, target = batch\n",
        "    # print(target)\n",
        "    # plt.imshow(img)\n",
        "    # plt.show()\n",
        "    # img = np.array(pimg)\n",
        "    pimg = np.array(pimg)\n",
        "    rgbimg = cv2.cvtColor(pimg, cv2.COLOR_GRAY2RGB)\n",
        "    rgbimg = Image.fromarray(np.uint8(rgbimg))\n",
        "\n",
        "    # gpu_img = torch.tensor(img.flatten().astype('float32'))\n",
        "    # gpu_img = gpu_img.to(device)\n",
        "    # gpu_img = transforms(rgbimg)\n",
        "    gpu_img = img_proc(rgbimg)\n",
        "    gpu_img = gpu_img.to(device)\n",
        "    gpu_img = torch.reshape(gpu_img, (1,2352))\n",
        "    target = torch.tensor(np.array([target]).astype('int64'))\n",
        "    target = target.to(device) \n",
        "\n",
        "    output = model(gpu_img)\n",
        "    output = output.view(1, 10)\n",
        "    rl2_o = model.relu2_out(gpu_img)\n",
        "    \n",
        "    loss = loss_fun(output, target)\n",
        "\n",
        "    # img, target = batch\n",
        "    # # print(target)\n",
        "    # # plt.imshow(img)\n",
        "    # # plt.show()\n",
        "    # img = np.array(img)\n",
        "    # gpu_img = torch.tensor(img.flatten().astype('float32'))\n",
        "    # gpu_img = gpu_img.to(device)\n",
        "    # target = torch.tensor(np.array([target]).astype('int64'))\n",
        "    # target = target.to(device)\n",
        "\n",
        "    # output = model(gpu_img)\n",
        "    # output = output.view(1, 10)\n",
        "    # # print(output)\n",
        "   \n",
        "    # loss = loss_fun(output, target)\n",
        "\n",
        "    # loss_arr.append(loss.detach().numpy()) # 1.\n",
        "    loss_arr.append(loss.data.item()) # 2.\n",
        "\n",
        "    loss.backward()\n",
        "    optimizer.step()\n",
        "\n",
        "    # check grad\n",
        "    for param in model.parameters():\n",
        "      g = param.grad.cpu().detach().numpy()\n",
        "      grad_arr.append(np.linalg.norm(g))\n",
        "      break\n",
        "\n",
        "    #  check weights\n",
        "    # for param in model.parameters():\n",
        "    #   w = param.cpu().detach().numpy()\n",
        "    #   counts, bins = np.histogram(w)\n",
        "    #   plt.hist(bins[:-1], bins, weights=counts)\n",
        "    #   plt.show()\n",
        "    #   break\n",
        "\n",
        "    #   print(param.requires_grad)\n",
        "    if i == n_step: break\n",
        "plt.plot(grad_arr)\n",
        "plt.show()"
      ],
      "execution_count": 8,
      "outputs": [
        {
          "output_type": "stream",
          "text": [
            "/usr/local/lib/python3.6/dist-packages/ipykernel_launcher.py:46: UserWarning: Implicit dimension choice for softmax has been deprecated. Change the call to include dim=X as an argument.\n"
          ],
          "name": "stderr"
        },
        {
          "output_type": "display_data",
          "data": {
            "image/png": "[encoded data removed]",
            "text/plain": [
              "<Figure size 432x288 with 1 Axes>"
            ]
          },
          "metadata": {
            "tags": []
          }
        }
      ]
    },
    {
      "cell_type": "markdown",
      "metadata": {
        "id": "M-4HF9W6bfkg",
        "colab_type": "text"
      },
      "source": [
        "draw graphs"
      ]
    },
    {
      "cell_type": "code",
      "metadata": {
        "id": "kp59tWKHbhEl",
        "colab_type": "code",
        "outputId": "8e609639-920c-4e3e-8eee-a4527ddb89a8",
        "colab": {
          "base_uri": "https://localhost:8080/",
          "height": 282
        }
      },
      "source": [
        "plt.plot(loss_arr)"
      ],
      "execution_count": 9,
      "outputs": [
        {
          "output_type": "execute_result",
          "data": {
            "text/plain": [
              "[<matplotlib.lines.Line2D at 0x7efceabd2c18>]"
            ]
          },
          "metadata": {
            "tags": []
          },
          "execution_count": 9
        },
        {
          "output_type": "display_data",
          "data": {
            "image/png": "[encoded data removed]",
            "text/plain": [
              "<Figure size 432x288 with 1 Axes>"
            ]
          },
          "metadata": {
            "tags": []
          }
        }
      ]
    },
    {
      "cell_type": "markdown",
      "metadata": {
        "id": "pchEk5561gVj",
        "colab_type": "text"
      },
      "source": [
        "test prediction"
      ]
    },
    {
      "cell_type": "code",
      "metadata": {
        "id": "VSfErG9m1hhk",
        "colab_type": "code",
        "colab": {
          "base_uri": "https://localhost:8080/",
          "height": 352
        },
        "outputId": "4cc0a392-1c91-4947-d151-b0a8815189a9"
      },
      "source": [
        "labels = [i for i in range(10)]\n",
        "print(labels)\n",
        "\n",
        "i = np.random.randint(1000)\n",
        "print('idx = ', i)\n",
        "pimg, _ = mnist.__getitem__(i)\n",
        "plt.imshow(pimg)\n",
        "plt.show()\n",
        "pimg = np.array(pimg)\n",
        "rgbimg = cv2.cvtColor(pimg, cv2.COLOR_GRAY2RGB)\n",
        "rgbimg = Image.fromarray(np.uint8(rgbimg))\n",
        "\n",
        "# # gpu_img = torch.tensor(img.flatten().astype('float32'))\n",
        "# # gpu_img = gpu_img.to(device)\n",
        "# gpu_img = transforms(rgbimg)\n",
        "gpu_img = img_proc(rgbimg)\n",
        "gpu_img = gpu_img.to(device)\n",
        "gpu_img = torch.reshape(gpu_img, (1,2352))\n",
        "# target = torch.tensor(np.array([target]).astype('int64'))\n",
        "# target = target.to(device) \n",
        "\n",
        "output = model(gpu_img)\n",
        "output = output.view(1, 10)\n",
        "print(labels[output.argmax()])\n",
        "\n"
      ],
      "execution_count": 34,
      "outputs": [
        {
          "output_type": "stream",
          "text": [
            "[0, 1, 2, 3, 4, 5, 6, 7, 8, 9]\n",
            "idx =  826\n"
          ],
          "name": "stdout"
        },
        {
          "output_type": "display_data",
          "data": {
            "image/png": "[encoded data removed]",
            "text/plain": [
              "<Figure size 432x288 with 1 Axes>"
            ]
          },
          "metadata": {
            "tags": []
          }
        },
        {
          "output_type": "stream",
          "text": [
            "6\n"
          ],
          "name": "stdout"
        },
        {
          "output_type": "stream",
          "text": [
            "/usr/local/lib/python3.6/dist-packages/ipykernel_launcher.py:46: UserWarning: Implicit dimension choice for softmax has been deprecated. Change the call to include dim=X as an argument.\n"
          ],
          "name": "stderr"
        }
      ]
    },
    {
      "cell_type": "markdown",
      "metadata": {
        "id": "PEV1zG7l3vrA",
        "colab_type": "text"
      },
      "source": [
        "inspect backward "
      ]
    },
    {
      "cell_type": "code",
      "metadata": {
        "id": "PsJmtx883uQr",
        "colab_type": "code",
        "colab": {
          "base_uri": "https://localhost:8080/",
          "height": 370
        },
        "outputId": "ce26bb5e-08ce-4f05-9da5-d8bf50569845"
      },
      "source": [
        "loss.backward()\n",
        "\n",
        "for name, param in model.named_parameters():\n",
        "  print(name, ' --> ', param) \n",
        "  print(param.grad)"
      ],
      "execution_count": 11,
      "outputs": [
        {
          "output_type": "error",
          "ename": "RuntimeError",
          "evalue": "ignored",
          "traceback": [
            "\u001b[0;31m---------------------------------------------------------------------------\u001b[0m",
            "\u001b[0;31mRuntimeError\u001b[0m                              Traceback (most recent call last)",
            "\u001b[0;32m<ipython-input-11-5fb63e8b97e5>\u001b[0m in \u001b[0;36m<module>\u001b[0;34m()\u001b[0m\n\u001b[0;32m----> 1\u001b[0;31m \u001b[0mloss\u001b[0m\u001b[0;34m.\u001b[0m\u001b[0mbackward\u001b[0m\u001b[0;34m(\u001b[0m\u001b[0;34m)\u001b[0m\u001b[0;34m\u001b[0m\u001b[0;34m\u001b[0m\u001b[0m\n\u001b[0m\u001b[1;32m      2\u001b[0m \u001b[0;34m\u001b[0m\u001b[0m\n\u001b[1;32m      3\u001b[0m \u001b[0;32mfor\u001b[0m \u001b[0mname\u001b[0m\u001b[0;34m,\u001b[0m \u001b[0mparam\u001b[0m \u001b[0;32min\u001b[0m \u001b[0mmodel\u001b[0m\u001b[0;34m.\u001b[0m\u001b[0mnamed_parameters\u001b[0m\u001b[0;34m(\u001b[0m\u001b[0;34m)\u001b[0m\u001b[0;34m:\u001b[0m\u001b[0;34m\u001b[0m\u001b[0;34m\u001b[0m\u001b[0m\n\u001b[1;32m      4\u001b[0m   \u001b[0mprint\u001b[0m\u001b[0;34m(\u001b[0m\u001b[0mname\u001b[0m\u001b[0;34m,\u001b[0m \u001b[0;34m' --> '\u001b[0m\u001b[0;34m,\u001b[0m \u001b[0mparam\u001b[0m\u001b[0;34m)\u001b[0m\u001b[0;34m\u001b[0m\u001b[0;34m\u001b[0m\u001b[0m\n\u001b[1;32m      5\u001b[0m   \u001b[0mprint\u001b[0m\u001b[0;34m(\u001b[0m\u001b[0mparam\u001b[0m\u001b[0;34m.\u001b[0m\u001b[0mgrad\u001b[0m\u001b[0;34m)\u001b[0m\u001b[0;34m\u001b[0m\u001b[0;34m\u001b[0m\u001b[0m\n",
            "\u001b[0;32m/usr/local/lib/python3.6/dist-packages/torch/tensor.py\u001b[0m in \u001b[0;36mbackward\u001b[0;34m(self, gradient, retain_graph, create_graph)\u001b[0m\n\u001b[1;32m    193\u001b[0m                 \u001b[0mproducts\u001b[0m\u001b[0;34m.\u001b[0m \u001b[0mDefaults\u001b[0m \u001b[0mto\u001b[0m\u001b[0;31m \u001b[0m\u001b[0;31m`\u001b[0m\u001b[0;31m`\u001b[0m\u001b[0;32mFalse\u001b[0m\u001b[0;31m`\u001b[0m\u001b[0;31m`\u001b[0m\u001b[0;34m.\u001b[0m\u001b[0;34m\u001b[0m\u001b[0;34m\u001b[0m\u001b[0m\n\u001b[1;32m    194\u001b[0m         \"\"\"\n\u001b[0;32m--> 195\u001b[0;31m         \u001b[0mtorch\u001b[0m\u001b[0;34m.\u001b[0m\u001b[0mautograd\u001b[0m\u001b[0;34m.\u001b[0m\u001b[0mbackward\u001b[0m\u001b[0;34m(\u001b[0m\u001b[0mself\u001b[0m\u001b[0;34m,\u001b[0m \u001b[0mgradient\u001b[0m\u001b[0;34m,\u001b[0m \u001b[0mretain_graph\u001b[0m\u001b[0;34m,\u001b[0m \u001b[0mcreate_graph\u001b[0m\u001b[0;34m)\u001b[0m\u001b[0;34m\u001b[0m\u001b[0;34m\u001b[0m\u001b[0m\n\u001b[0m\u001b[1;32m    196\u001b[0m \u001b[0;34m\u001b[0m\u001b[0m\n\u001b[1;32m    197\u001b[0m     \u001b[0;32mdef\u001b[0m \u001b[0mregister_hook\u001b[0m\u001b[0;34m(\u001b[0m\u001b[0mself\u001b[0m\u001b[0;34m,\u001b[0m \u001b[0mhook\u001b[0m\u001b[0;34m)\u001b[0m\u001b[0;34m:\u001b[0m\u001b[0;34m\u001b[0m\u001b[0;34m\u001b[0m\u001b[0m\n",
            "\u001b[0;32m/usr/local/lib/python3.6/dist-packages/torch/autograd/__init__.py\u001b[0m in \u001b[0;36mbackward\u001b[0;34m(tensors, grad_tensors, retain_graph, create_graph, grad_variables)\u001b[0m\n\u001b[1;32m     97\u001b[0m     Variable._execution_engine.run_backward(\n\u001b[1;32m     98\u001b[0m         \u001b[0mtensors\u001b[0m\u001b[0;34m,\u001b[0m \u001b[0mgrad_tensors\u001b[0m\u001b[0;34m,\u001b[0m \u001b[0mretain_graph\u001b[0m\u001b[0;34m,\u001b[0m \u001b[0mcreate_graph\u001b[0m\u001b[0;34m,\u001b[0m\u001b[0;34m\u001b[0m\u001b[0;34m\u001b[0m\u001b[0m\n\u001b[0;32m---> 99\u001b[0;31m         allow_unreachable=True)  # allow_unreachable flag\n\u001b[0m\u001b[1;32m    100\u001b[0m \u001b[0;34m\u001b[0m\u001b[0m\n\u001b[1;32m    101\u001b[0m \u001b[0;34m\u001b[0m\u001b[0m\n",
            "\u001b[0;31mRuntimeError\u001b[0m: Trying to backward through the graph a second time, but the buffers have already been freed. Specify retain_graph=True when calling backward the first time."
          ]
        }
      ]
    },
    {
      "cell_type": "markdown",
      "metadata": {
        "id": "mAUVvULdTNCy",
        "colab_type": "text"
      },
      "source": [
        "one update step\n"
      ]
    },
    {
      "cell_type": "code",
      "metadata": {
        "id": "7aZ6RvWXRq7q",
        "colab_type": "code",
        "colab": {}
      },
      "source": [
        "# \n",
        "input = torch.randn(3, 5, requires_grad=True)\n",
        "print(input)\n",
        "print(input.shape)\n",
        "target = torch.randint(5, (3,), dtype=torch.int64)\n",
        "print(target)\n",
        "loss = nn.functional.cross_entropy(input, target)\n",
        "print(loss)"
      ],
      "execution_count": 0,
      "outputs": []
    }
  ]
}